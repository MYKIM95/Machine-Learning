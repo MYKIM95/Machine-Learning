{
 "cells": [
  {
   "cell_type": "markdown",
   "metadata": {},
   "source": [
    "###  corr 이 제일 높았던 age 와 self-control을 사용해 stag 결측치 채워보기"
   ]
  },
  {
   "cell_type": "code",
   "execution_count": 45,
   "metadata": {},
   "outputs": [],
   "source": [
    "import pandas as pd\n",
    "import matplotlib.pyplot as plt  # 그래프 그리는 라이브러리\n",
    "from sklearn.model_selection import train_test_split\n",
    "from sklearn import metrics  # 평가를 위한 라이브러리\n",
    "from sklearn.tree import DecisionTreeClassifier\n",
    "\n",
    "import numpy as np\n",
    "import seaborn as sns  # 시각화 라이브러리\n",
    "\n",
    "from sklearn.neighbors import KNeighborsClassifier\n",
    "from sklearn.model_selection import cross_val_score"
   ]
  },
  {
   "cell_type": "code",
   "execution_count": 3,
   "metadata": {},
   "outputs": [],
   "source": [
    "train = pd.read_csv('smhrd111/train.csv', index_col = 'ID')\n",
    "test = pd.read_csv('smhrd111/test.csv', index_col = 'ID')"
   ]
  },
  {
   "cell_type": "code",
   "execution_count": 4,
   "metadata": {},
   "outputs": [
    {
     "name": "stdout",
     "output_type": "stream",
     "text": [
      "<class 'pandas.core.frame.DataFrame'>\n",
      "Int64Index: 699 entries, 1 to 699\n",
      "Data columns (total 16 columns):\n",
      " #   Column        Non-Null Count  Dtype  \n",
      "---  ------        --------------  -----  \n",
      " 0   stag          516 non-null    float64\n",
      " 1   event         699 non-null    int64  \n",
      " 2   gender        699 non-null    object \n",
      " 3   age           699 non-null    float64\n",
      " 4   industry      672 non-null    object \n",
      " 5   profession    699 non-null    object \n",
      " 6   traffic       699 non-null    object \n",
      " 7   coach         699 non-null    object \n",
      " 8   head_gender   699 non-null    object \n",
      " 9   greywage      679 non-null    object \n",
      " 10  way           678 non-null    object \n",
      " 11  extraversion  699 non-null    float64\n",
      " 12  independ      699 non-null    float64\n",
      " 13  selfcontrol   666 non-null    float64\n",
      " 14  anxiety       699 non-null    float64\n",
      " 15  novator       699 non-null    float64\n",
      "dtypes: float64(7), int64(1), object(8)\n",
      "memory usage: 92.8+ KB\n"
     ]
    }
   ],
   "source": [
    "train.info()"
   ]
  },
  {
   "cell_type": "code",
   "execution_count": 5,
   "metadata": {},
   "outputs": [
    {
     "name": "stdout",
     "output_type": "stream",
     "text": [
      "<class 'pandas.core.frame.DataFrame'>\n",
      "Int64Index: 430 entries, 700 to 1129\n",
      "Data columns (total 15 columns):\n",
      " #   Column        Non-Null Count  Dtype  \n",
      "---  ------        --------------  -----  \n",
      " 0   stag          321 non-null    float64\n",
      " 1   gender        430 non-null    object \n",
      " 2   age           430 non-null    float64\n",
      " 3   industry      430 non-null    object \n",
      " 4   profession    430 non-null    object \n",
      " 5   traffic       430 non-null    object \n",
      " 6   coach         430 non-null    object \n",
      " 7   head_gender   360 non-null    object \n",
      " 8   greywage      430 non-null    object \n",
      " 9   way           430 non-null    object \n",
      " 10  extraversion  430 non-null    float64\n",
      " 11  independ      430 non-null    float64\n",
      " 12  selfcontrol   385 non-null    float64\n",
      " 13  anxiety       430 non-null    float64\n",
      " 14  novator       430 non-null    float64\n",
      "dtypes: float64(7), object(8)\n",
      "memory usage: 53.8+ KB\n"
     ]
    }
   ],
   "source": [
    "test.info()"
   ]
  },
  {
   "cell_type": "code",
   "execution_count": 6,
   "metadata": {},
   "outputs": [
    {
     "data": {
      "text/html": [
       "<div>\n",
       "<style scoped>\n",
       "    .dataframe tbody tr th:only-of-type {\n",
       "        vertical-align: middle;\n",
       "    }\n",
       "\n",
       "    .dataframe tbody tr th {\n",
       "        vertical-align: top;\n",
       "    }\n",
       "\n",
       "    .dataframe thead th {\n",
       "        text-align: right;\n",
       "    }\n",
       "</style>\n",
       "<table border=\"1\" class=\"dataframe\">\n",
       "  <thead>\n",
       "    <tr style=\"text-align: right;\">\n",
       "      <th></th>\n",
       "      <th>stag</th>\n",
       "      <th>event</th>\n",
       "      <th>age</th>\n",
       "      <th>extraversion</th>\n",
       "      <th>independ</th>\n",
       "      <th>selfcontrol</th>\n",
       "      <th>anxiety</th>\n",
       "      <th>novator</th>\n",
       "    </tr>\n",
       "  </thead>\n",
       "  <tbody>\n",
       "    <tr>\n",
       "      <th>stag</th>\n",
       "      <td>1.000000</td>\n",
       "      <td>-0.070421</td>\n",
       "      <td>-0.214415</td>\n",
       "      <td>-0.078248</td>\n",
       "      <td>-0.013056</td>\n",
       "      <td>0.102294</td>\n",
       "      <td>0.042807</td>\n",
       "      <td>-0.039662</td>\n",
       "    </tr>\n",
       "    <tr>\n",
       "      <th>event</th>\n",
       "      <td>-0.070421</td>\n",
       "      <td>1.000000</td>\n",
       "      <td>0.008723</td>\n",
       "      <td>0.013961</td>\n",
       "      <td>-0.007915</td>\n",
       "      <td>-0.049588</td>\n",
       "      <td>-0.022668</td>\n",
       "      <td>0.022554</td>\n",
       "    </tr>\n",
       "    <tr>\n",
       "      <th>age</th>\n",
       "      <td>-0.214415</td>\n",
       "      <td>0.008723</td>\n",
       "      <td>1.000000</td>\n",
       "      <td>-0.169429</td>\n",
       "      <td>0.074582</td>\n",
       "      <td>0.032276</td>\n",
       "      <td>0.060051</td>\n",
       "      <td>0.020334</td>\n",
       "    </tr>\n",
       "    <tr>\n",
       "      <th>extraversion</th>\n",
       "      <td>-0.078248</td>\n",
       "      <td>0.013961</td>\n",
       "      <td>-0.169429</td>\n",
       "      <td>1.000000</td>\n",
       "      <td>-0.208904</td>\n",
       "      <td>-0.512422</td>\n",
       "      <td>-0.150632</td>\n",
       "      <td>0.287073</td>\n",
       "    </tr>\n",
       "    <tr>\n",
       "      <th>independ</th>\n",
       "      <td>-0.013056</td>\n",
       "      <td>-0.007915</td>\n",
       "      <td>0.074582</td>\n",
       "      <td>-0.208904</td>\n",
       "      <td>1.000000</td>\n",
       "      <td>-0.202594</td>\n",
       "      <td>-0.418896</td>\n",
       "      <td>0.038421</td>\n",
       "    </tr>\n",
       "    <tr>\n",
       "      <th>selfcontrol</th>\n",
       "      <td>0.102294</td>\n",
       "      <td>-0.049588</td>\n",
       "      <td>0.032276</td>\n",
       "      <td>-0.512422</td>\n",
       "      <td>-0.202594</td>\n",
       "      <td>1.000000</td>\n",
       "      <td>-0.074452</td>\n",
       "      <td>-0.573815</td>\n",
       "    </tr>\n",
       "    <tr>\n",
       "      <th>anxiety</th>\n",
       "      <td>0.042807</td>\n",
       "      <td>-0.022668</td>\n",
       "      <td>0.060051</td>\n",
       "      <td>-0.150632</td>\n",
       "      <td>-0.418896</td>\n",
       "      <td>-0.074452</td>\n",
       "      <td>1.000000</td>\n",
       "      <td>0.255866</td>\n",
       "    </tr>\n",
       "    <tr>\n",
       "      <th>novator</th>\n",
       "      <td>-0.039662</td>\n",
       "      <td>0.022554</td>\n",
       "      <td>0.020334</td>\n",
       "      <td>0.287073</td>\n",
       "      <td>0.038421</td>\n",
       "      <td>-0.573815</td>\n",
       "      <td>0.255866</td>\n",
       "      <td>1.000000</td>\n",
       "    </tr>\n",
       "  </tbody>\n",
       "</table>\n",
       "</div>"
      ],
      "text/plain": [
       "                  stag     event       age  extraversion  independ  \\\n",
       "stag          1.000000 -0.070421 -0.214415     -0.078248 -0.013056   \n",
       "event        -0.070421  1.000000  0.008723      0.013961 -0.007915   \n",
       "age          -0.214415  0.008723  1.000000     -0.169429  0.074582   \n",
       "extraversion -0.078248  0.013961 -0.169429      1.000000 -0.208904   \n",
       "independ     -0.013056 -0.007915  0.074582     -0.208904  1.000000   \n",
       "selfcontrol   0.102294 -0.049588  0.032276     -0.512422 -0.202594   \n",
       "anxiety       0.042807 -0.022668  0.060051     -0.150632 -0.418896   \n",
       "novator      -0.039662  0.022554  0.020334      0.287073  0.038421   \n",
       "\n",
       "              selfcontrol   anxiety   novator  \n",
       "stag             0.102294  0.042807 -0.039662  \n",
       "event           -0.049588 -0.022668  0.022554  \n",
       "age              0.032276  0.060051  0.020334  \n",
       "extraversion    -0.512422 -0.150632  0.287073  \n",
       "independ        -0.202594 -0.418896  0.038421  \n",
       "selfcontrol      1.000000 -0.074452 -0.573815  \n",
       "anxiety         -0.074452  1.000000  0.255866  \n",
       "novator         -0.573815  0.255866  1.000000  "
      ]
     },
     "execution_count": 6,
     "metadata": {},
     "output_type": "execute_result"
    }
   ],
   "source": [
    "train.corr()"
   ]
  },
  {
   "cell_type": "code",
   "execution_count": 7,
   "metadata": {},
   "outputs": [
    {
     "data": {
      "text/html": [
       "<div>\n",
       "<style scoped>\n",
       "    .dataframe tbody tr th:only-of-type {\n",
       "        vertical-align: middle;\n",
       "    }\n",
       "\n",
       "    .dataframe tbody tr th {\n",
       "        vertical-align: top;\n",
       "    }\n",
       "\n",
       "    .dataframe thead th {\n",
       "        text-align: right;\n",
       "    }\n",
       "</style>\n",
       "<table border=\"1\" class=\"dataframe\">\n",
       "  <thead>\n",
       "    <tr style=\"text-align: right;\">\n",
       "      <th></th>\n",
       "      <th>stag</th>\n",
       "      <th>age</th>\n",
       "      <th>extraversion</th>\n",
       "      <th>independ</th>\n",
       "      <th>selfcontrol</th>\n",
       "      <th>anxiety</th>\n",
       "      <th>novator</th>\n",
       "    </tr>\n",
       "  </thead>\n",
       "  <tbody>\n",
       "    <tr>\n",
       "      <th>stag</th>\n",
       "      <td>1.000000</td>\n",
       "      <td>-0.213404</td>\n",
       "      <td>-0.129267</td>\n",
       "      <td>0.065200</td>\n",
       "      <td>0.050795</td>\n",
       "      <td>-0.040311</td>\n",
       "      <td>-0.066284</td>\n",
       "    </tr>\n",
       "    <tr>\n",
       "      <th>age</th>\n",
       "      <td>-0.213404</td>\n",
       "      <td>1.000000</td>\n",
       "      <td>-0.116970</td>\n",
       "      <td>0.043920</td>\n",
       "      <td>0.013688</td>\n",
       "      <td>0.038650</td>\n",
       "      <td>0.062018</td>\n",
       "    </tr>\n",
       "    <tr>\n",
       "      <th>extraversion</th>\n",
       "      <td>-0.129267</td>\n",
       "      <td>-0.116970</td>\n",
       "      <td>1.000000</td>\n",
       "      <td>-0.191124</td>\n",
       "      <td>-0.579729</td>\n",
       "      <td>-0.107014</td>\n",
       "      <td>0.317611</td>\n",
       "    </tr>\n",
       "    <tr>\n",
       "      <th>independ</th>\n",
       "      <td>0.065200</td>\n",
       "      <td>0.043920</td>\n",
       "      <td>-0.191124</td>\n",
       "      <td>1.000000</td>\n",
       "      <td>-0.121016</td>\n",
       "      <td>-0.436577</td>\n",
       "      <td>0.002716</td>\n",
       "    </tr>\n",
       "    <tr>\n",
       "      <th>selfcontrol</th>\n",
       "      <td>0.050795</td>\n",
       "      <td>0.013688</td>\n",
       "      <td>-0.579729</td>\n",
       "      <td>-0.121016</td>\n",
       "      <td>1.000000</td>\n",
       "      <td>-0.137211</td>\n",
       "      <td>-0.526195</td>\n",
       "    </tr>\n",
       "    <tr>\n",
       "      <th>anxiety</th>\n",
       "      <td>-0.040311</td>\n",
       "      <td>0.038650</td>\n",
       "      <td>-0.107014</td>\n",
       "      <td>-0.436577</td>\n",
       "      <td>-0.137211</td>\n",
       "      <td>1.000000</td>\n",
       "      <td>0.227025</td>\n",
       "    </tr>\n",
       "    <tr>\n",
       "      <th>novator</th>\n",
       "      <td>-0.066284</td>\n",
       "      <td>0.062018</td>\n",
       "      <td>0.317611</td>\n",
       "      <td>0.002716</td>\n",
       "      <td>-0.526195</td>\n",
       "      <td>0.227025</td>\n",
       "      <td>1.000000</td>\n",
       "    </tr>\n",
       "  </tbody>\n",
       "</table>\n",
       "</div>"
      ],
      "text/plain": [
       "                  stag       age  extraversion  independ  selfcontrol  \\\n",
       "stag          1.000000 -0.213404     -0.129267  0.065200     0.050795   \n",
       "age          -0.213404  1.000000     -0.116970  0.043920     0.013688   \n",
       "extraversion -0.129267 -0.116970      1.000000 -0.191124    -0.579729   \n",
       "independ      0.065200  0.043920     -0.191124  1.000000    -0.121016   \n",
       "selfcontrol   0.050795  0.013688     -0.579729 -0.121016     1.000000   \n",
       "anxiety      -0.040311  0.038650     -0.107014 -0.436577    -0.137211   \n",
       "novator      -0.066284  0.062018      0.317611  0.002716    -0.526195   \n",
       "\n",
       "               anxiety   novator  \n",
       "stag         -0.040311 -0.066284  \n",
       "age           0.038650  0.062018  \n",
       "extraversion -0.107014  0.317611  \n",
       "independ     -0.436577  0.002716  \n",
       "selfcontrol  -0.137211 -0.526195  \n",
       "anxiety       1.000000  0.227025  \n",
       "novator       0.227025  1.000000  "
      ]
     },
     "execution_count": 7,
     "metadata": {},
     "output_type": "execute_result"
    }
   ],
   "source": [
    "test.corr()"
   ]
  },
  {
   "cell_type": "markdown",
   "metadata": {},
   "source": [
    "- train 과 test 의 selfcontrol 결측치 채우기 (가장 빈도수가 높은걸로)"
   ]
  },
  {
   "cell_type": "code",
   "execution_count": 8,
   "metadata": {},
   "outputs": [
    {
     "data": {
      "text/plain": [
       "6.4     63\n",
       "4.1     51\n",
       "7.2     45\n",
       "5.7     43\n",
       "4.9     39\n",
       "3.3     34\n",
       "8.0     28\n",
       "8.7     27\n",
       "2.6     26\n",
       "9.5     12\n",
       "1.8      9\n",
       "10.0     5\n",
       "1.0      3\n",
       "Name: selfcontrol, dtype: int64"
      ]
     },
     "execution_count": 8,
     "metadata": {},
     "output_type": "execute_result"
    }
   ],
   "source": [
    "test['selfcontrol'].value_counts()"
   ]
  },
  {
   "cell_type": "code",
   "execution_count": 9,
   "metadata": {},
   "outputs": [],
   "source": [
    "train['selfcontrol'] = train['selfcontrol'].fillna(5.7)"
   ]
  },
  {
   "cell_type": "code",
   "execution_count": 10,
   "metadata": {},
   "outputs": [],
   "source": [
    "test['selfcontrol'] = test['selfcontrol'].fillna(6.4)"
   ]
  },
  {
   "cell_type": "code",
   "execution_count": 11,
   "metadata": {},
   "outputs": [
    {
     "data": {
      "text/html": [
       "<div>\n",
       "<style scoped>\n",
       "    .dataframe tbody tr th:only-of-type {\n",
       "        vertical-align: middle;\n",
       "    }\n",
       "\n",
       "    .dataframe tbody tr th {\n",
       "        vertical-align: top;\n",
       "    }\n",
       "\n",
       "    .dataframe thead th {\n",
       "        text-align: right;\n",
       "    }\n",
       "</style>\n",
       "<table border=\"1\" class=\"dataframe\">\n",
       "  <thead>\n",
       "    <tr style=\"text-align: right;\">\n",
       "      <th></th>\n",
       "      <th>stag</th>\n",
       "      <th>event</th>\n",
       "      <th>age</th>\n",
       "      <th>extraversion</th>\n",
       "      <th>independ</th>\n",
       "      <th>selfcontrol</th>\n",
       "      <th>anxiety</th>\n",
       "      <th>novator</th>\n",
       "    </tr>\n",
       "  </thead>\n",
       "  <tbody>\n",
       "    <tr>\n",
       "      <th>stag</th>\n",
       "      <td>1.000000</td>\n",
       "      <td>-0.070421</td>\n",
       "      <td>-0.214415</td>\n",
       "      <td>-0.078248</td>\n",
       "      <td>-0.013056</td>\n",
       "      <td>0.099942</td>\n",
       "      <td>0.042807</td>\n",
       "      <td>-0.039662</td>\n",
       "    </tr>\n",
       "    <tr>\n",
       "      <th>event</th>\n",
       "      <td>-0.070421</td>\n",
       "      <td>1.000000</td>\n",
       "      <td>0.008723</td>\n",
       "      <td>0.013961</td>\n",
       "      <td>-0.007915</td>\n",
       "      <td>-0.047922</td>\n",
       "      <td>-0.022668</td>\n",
       "      <td>0.022554</td>\n",
       "    </tr>\n",
       "    <tr>\n",
       "      <th>age</th>\n",
       "      <td>-0.214415</td>\n",
       "      <td>0.008723</td>\n",
       "      <td>1.000000</td>\n",
       "      <td>-0.169429</td>\n",
       "      <td>0.074582</td>\n",
       "      <td>0.031015</td>\n",
       "      <td>0.060051</td>\n",
       "      <td>0.020334</td>\n",
       "    </tr>\n",
       "    <tr>\n",
       "      <th>extraversion</th>\n",
       "      <td>-0.078248</td>\n",
       "      <td>0.013961</td>\n",
       "      <td>-0.169429</td>\n",
       "      <td>1.000000</td>\n",
       "      <td>-0.208904</td>\n",
       "      <td>-0.501896</td>\n",
       "      <td>-0.150632</td>\n",
       "      <td>0.287073</td>\n",
       "    </tr>\n",
       "    <tr>\n",
       "      <th>independ</th>\n",
       "      <td>-0.013056</td>\n",
       "      <td>-0.007915</td>\n",
       "      <td>0.074582</td>\n",
       "      <td>-0.208904</td>\n",
       "      <td>1.000000</td>\n",
       "      <td>-0.198366</td>\n",
       "      <td>-0.418896</td>\n",
       "      <td>0.038421</td>\n",
       "    </tr>\n",
       "    <tr>\n",
       "      <th>selfcontrol</th>\n",
       "      <td>0.099942</td>\n",
       "      <td>-0.047922</td>\n",
       "      <td>0.031015</td>\n",
       "      <td>-0.501896</td>\n",
       "      <td>-0.198366</td>\n",
       "      <td>1.000000</td>\n",
       "      <td>-0.071166</td>\n",
       "      <td>-0.559241</td>\n",
       "    </tr>\n",
       "    <tr>\n",
       "      <th>anxiety</th>\n",
       "      <td>0.042807</td>\n",
       "      <td>-0.022668</td>\n",
       "      <td>0.060051</td>\n",
       "      <td>-0.150632</td>\n",
       "      <td>-0.418896</td>\n",
       "      <td>-0.071166</td>\n",
       "      <td>1.000000</td>\n",
       "      <td>0.255866</td>\n",
       "    </tr>\n",
       "    <tr>\n",
       "      <th>novator</th>\n",
       "      <td>-0.039662</td>\n",
       "      <td>0.022554</td>\n",
       "      <td>0.020334</td>\n",
       "      <td>0.287073</td>\n",
       "      <td>0.038421</td>\n",
       "      <td>-0.559241</td>\n",
       "      <td>0.255866</td>\n",
       "      <td>1.000000</td>\n",
       "    </tr>\n",
       "  </tbody>\n",
       "</table>\n",
       "</div>"
      ],
      "text/plain": [
       "                  stag     event       age  extraversion  independ  \\\n",
       "stag          1.000000 -0.070421 -0.214415     -0.078248 -0.013056   \n",
       "event        -0.070421  1.000000  0.008723      0.013961 -0.007915   \n",
       "age          -0.214415  0.008723  1.000000     -0.169429  0.074582   \n",
       "extraversion -0.078248  0.013961 -0.169429      1.000000 -0.208904   \n",
       "independ     -0.013056 -0.007915  0.074582     -0.208904  1.000000   \n",
       "selfcontrol   0.099942 -0.047922  0.031015     -0.501896 -0.198366   \n",
       "anxiety       0.042807 -0.022668  0.060051     -0.150632 -0.418896   \n",
       "novator      -0.039662  0.022554  0.020334      0.287073  0.038421   \n",
       "\n",
       "              selfcontrol   anxiety   novator  \n",
       "stag             0.099942  0.042807 -0.039662  \n",
       "event           -0.047922 -0.022668  0.022554  \n",
       "age              0.031015  0.060051  0.020334  \n",
       "extraversion    -0.501896 -0.150632  0.287073  \n",
       "independ        -0.198366 -0.418896  0.038421  \n",
       "selfcontrol      1.000000 -0.071166 -0.559241  \n",
       "anxiety         -0.071166  1.000000  0.255866  \n",
       "novator         -0.559241  0.255866  1.000000  "
      ]
     },
     "execution_count": 11,
     "metadata": {},
     "output_type": "execute_result"
    }
   ],
   "source": [
    "train.corr()"
   ]
  },
  {
   "cell_type": "markdown",
   "metadata": {},
   "source": [
    "- pivot 테이블을 묶어서 age를 뽑았을때 비어있는 age 값을 드랍하고 다시 채워주기"
   ]
  },
  {
   "cell_type": "code",
   "execution_count": 12,
   "metadata": {},
   "outputs": [
    {
     "data": {
      "text/plain": [
       "gender  age \n",
       "f       18.0    142.455852\n",
       "        19.0    133.273101\n",
       "        20.0     82.759754\n",
       "        21.0     26.940452\n",
       "        22.0     41.297741\n",
       "                   ...    \n",
       "m       45.0           NaN\n",
       "        46.0           NaN\n",
       "        47.0           NaN\n",
       "        51.0     25.659138\n",
       "        52.0     22.078029\n",
       "Name: stag, Length: 64, dtype: float64"
      ]
     },
     "execution_count": 12,
     "metadata": {},
     "output_type": "execute_result"
    }
   ],
   "source": [
    "train.groupby([\"gender\", \"age\"]).median()[\"stag\"]"
   ]
  },
  {
   "cell_type": "code",
   "execution_count": 13,
   "metadata": {},
   "outputs": [],
   "source": [
    "train['age'] = train['age'].astype('int64')"
   ]
  },
  {
   "cell_type": "code",
   "execution_count": 14,
   "metadata": {},
   "outputs": [],
   "source": [
    "index = train['age'][train['age'] == 47].index\n",
    "index2 = train['age'][train['age'] == 58].index\n",
    "train = train.drop(index)\n",
    "train = train.drop(index2)"
   ]
  },
  {
   "cell_type": "code",
   "execution_count": 15,
   "metadata": {},
   "outputs": [],
   "source": [
    "pt = train.pivot_table(values=\"stag\", index=[\"age\"], aggfunc = \"mean\")"
   ]
  },
  {
   "cell_type": "code",
   "execution_count": 16,
   "metadata": {},
   "outputs": [],
   "source": [
    "def fill_stag(df):\n",
    "    if np.isnan(df['stag']):\n",
    "        return pt.loc[df[\"age\"]]\n",
    "    else:\n",
    "        return df['stag']"
   ]
  },
  {
   "cell_type": "code",
   "execution_count": 17,
   "metadata": {},
   "outputs": [],
   "source": [
    "train[\"stag\"] = train.apply(fill_stag, axis = 1).astype(\"int64\")"
   ]
  },
  {
   "cell_type": "code",
   "execution_count": 18,
   "metadata": {},
   "outputs": [
    {
     "name": "stdout",
     "output_type": "stream",
     "text": [
      "<class 'pandas.core.frame.DataFrame'>\n",
      "Int64Index: 696 entries, 1 to 699\n",
      "Data columns (total 16 columns):\n",
      " #   Column        Non-Null Count  Dtype  \n",
      "---  ------        --------------  -----  \n",
      " 0   stag          696 non-null    int64  \n",
      " 1   event         696 non-null    int64  \n",
      " 2   gender        696 non-null    object \n",
      " 3   age           696 non-null    int64  \n",
      " 4   industry      669 non-null    object \n",
      " 5   profession    696 non-null    object \n",
      " 6   traffic       696 non-null    object \n",
      " 7   coach         696 non-null    object \n",
      " 8   head_gender   696 non-null    object \n",
      " 9   greywage      676 non-null    object \n",
      " 10  way           675 non-null    object \n",
      " 11  extraversion  696 non-null    float64\n",
      " 12  independ      696 non-null    float64\n",
      " 13  selfcontrol   696 non-null    float64\n",
      " 14  anxiety       696 non-null    float64\n",
      " 15  novator       696 non-null    float64\n",
      "dtypes: float64(5), int64(3), object(8)\n",
      "memory usage: 112.4+ KB\n"
     ]
    }
   ],
   "source": [
    "train.info()"
   ]
  },
  {
   "cell_type": "code",
   "execution_count": 19,
   "metadata": {},
   "outputs": [
    {
     "data": {
      "text/plain": [
       "gender  age \n",
       "f       18.0    42.250513\n",
       "        19.0    39.277207\n",
       "        20.0     9.921971\n",
       "        21.0    74.053388\n",
       "        22.0    32.000000\n",
       "                  ...    \n",
       "m       45.0    24.279261\n",
       "        47.0    29.700205\n",
       "        48.0    12.517454\n",
       "        49.0    21.158111\n",
       "        54.0    15.605749\n",
       "Name: stag, Length: 65, dtype: float64"
      ]
     },
     "execution_count": 19,
     "metadata": {},
     "output_type": "execute_result"
    }
   ],
   "source": [
    "test.groupby([\"gender\", \"age\"]).median()[\"stag\"]"
   ]
  },
  {
   "cell_type": "code",
   "execution_count": 20,
   "metadata": {},
   "outputs": [],
   "source": [
    "test['age'] = test['age'].astype('int64')"
   ]
  },
  {
   "cell_type": "code",
   "execution_count": 21,
   "metadata": {},
   "outputs": [],
   "source": [
    "index = test['age'][test['age'] == 47].index\n",
    "index2 = test['age'][test['age'] == 58].index\n",
    "test = test.drop(index)\n",
    "test = test.drop(index2)"
   ]
  },
  {
   "cell_type": "code",
   "execution_count": 22,
   "metadata": {},
   "outputs": [],
   "source": [
    "pt2 = test.pivot_table(values=\"stag\", index=[\"age\"], aggfunc = \"mean\")"
   ]
  },
  {
   "cell_type": "code",
   "execution_count": 23,
   "metadata": {},
   "outputs": [],
   "source": [
    "def fill_stag(df):\n",
    "    if np.isnan(df['stag']):\n",
    "        return pt2.loc[df[\"age\"]]\n",
    "    else:\n",
    "        return df['stag']"
   ]
  },
  {
   "cell_type": "code",
   "execution_count": 24,
   "metadata": {},
   "outputs": [],
   "source": [
    "test[\"stag\"] = test.apply(fill_stag, axis = 1).astype(\"int64\")"
   ]
  },
  {
   "cell_type": "code",
   "execution_count": 25,
   "metadata": {},
   "outputs": [
    {
     "name": "stdout",
     "output_type": "stream",
     "text": [
      "<class 'pandas.core.frame.DataFrame'>\n",
      "Int64Index: 426 entries, 700 to 1129\n",
      "Data columns (total 15 columns):\n",
      " #   Column        Non-Null Count  Dtype  \n",
      "---  ------        --------------  -----  \n",
      " 0   stag          426 non-null    int64  \n",
      " 1   gender        426 non-null    object \n",
      " 2   age           426 non-null    int64  \n",
      " 3   industry      426 non-null    object \n",
      " 4   profession    426 non-null    object \n",
      " 5   traffic       426 non-null    object \n",
      " 6   coach         426 non-null    object \n",
      " 7   head_gender   357 non-null    object \n",
      " 8   greywage      426 non-null    object \n",
      " 9   way           426 non-null    object \n",
      " 10  extraversion  426 non-null    float64\n",
      " 11  independ      426 non-null    float64\n",
      " 12  selfcontrol   426 non-null    float64\n",
      " 13  anxiety       426 non-null    float64\n",
      " 14  novator       426 non-null    float64\n",
      "dtypes: float64(5), int64(2), object(8)\n",
      "memory usage: 53.2+ KB\n"
     ]
    }
   ],
   "source": [
    "test.info()"
   ]
  },
  {
   "cell_type": "markdown",
   "metadata": {},
   "source": [
    "### 제일 빈도수 많았던 데이터로 결측치 채우기"
   ]
  },
  {
   "cell_type": "code",
   "execution_count": 26,
   "metadata": {},
   "outputs": [],
   "source": [
    "train['industry'] = train['industry'].fillna('Retail')"
   ]
  },
  {
   "cell_type": "code",
   "execution_count": 27,
   "metadata": {},
   "outputs": [],
   "source": [
    "train['greywage'] = train['greywage'].fillna('white')"
   ]
  },
  {
   "cell_type": "code",
   "execution_count": 28,
   "metadata": {},
   "outputs": [],
   "source": [
    "train['way'] = train['way'].fillna('bus')"
   ]
  },
  {
   "cell_type": "code",
   "execution_count": 31,
   "metadata": {},
   "outputs": [],
   "source": [
    "test['head_gender'] = test['head_gender'].fillna('m')"
   ]
  },
  {
   "cell_type": "code",
   "execution_count": 33,
   "metadata": {},
   "outputs": [],
   "source": [
    "train.to_csv('temp/train.csv', index = False)"
   ]
  },
  {
   "cell_type": "code",
   "execution_count": 34,
   "metadata": {},
   "outputs": [],
   "source": [
    "test.to_csv('temp/test.csv', index = False)"
   ]
  },
  {
   "cell_type": "markdown",
   "metadata": {},
   "source": [
    "### 가데이터 집어넣은 train 과 test 불러오기"
   ]
  },
  {
   "cell_type": "code",
   "execution_count": 90,
   "metadata": {},
   "outputs": [],
   "source": [
    "train = pd.read_csv('temp/train.csv')\n",
    "test = pd.read_csv('temp/test.csv')"
   ]
  },
  {
   "cell_type": "markdown",
   "metadata": {},
   "source": [
    "- 원핫 인코딩"
   ]
  },
  {
   "cell_type": "code",
   "execution_count": 91,
   "metadata": {},
   "outputs": [],
   "source": [
    "y_train = train['event']\n",
    "X_train = train.drop('event', axis = 1)\n",
    "X_test = test"
   ]
  },
  {
   "cell_type": "code",
   "execution_count": 92,
   "metadata": {},
   "outputs": [],
   "source": [
    "cat_feature = ['gender', 'industry', 'profession', 'traffic', 'coach', 'head_gender', 'greywage', 'way']"
   ]
  },
  {
   "cell_type": "code",
   "execution_count": 93,
   "metadata": {},
   "outputs": [],
   "source": [
    "for i in cat_feature:\n",
    "    dummy = pd.get_dummies(train[i], prefix = i)\n",
    "    X_train = pd.concat([X_train, dummy], axis = 1)\n",
    "    X_train.drop(i, axis=1, inplace = True)"
   ]
  },
  {
   "cell_type": "code",
   "execution_count": 94,
   "metadata": {},
   "outputs": [],
   "source": [
    "for i in cat_feature:\n",
    "    dummy = pd.get_dummies(test[i], prefix = i)\n",
    "    X_test = pd.concat([X_test, dummy], axis = 1)\n",
    "    X_test.drop(i, axis=1, inplace = True)"
   ]
  },
  {
   "cell_type": "code",
   "execution_count": 95,
   "metadata": {},
   "outputs": [
    {
     "data": {
      "text/plain": [
       "set()"
      ]
     },
     "execution_count": 95,
     "metadata": {},
     "output_type": "execute_result"
    }
   ],
   "source": [
    "set(X_train.columns) - set(X_test.columns)"
   ]
  },
  {
   "cell_type": "code",
   "execution_count": 99,
   "metadata": {},
   "outputs": [],
   "source": [
    "knn_model = KNeighborsClassifier(n_neighbors = 10)"
   ]
  },
  {
   "cell_type": "code",
   "execution_count": 102,
   "metadata": {},
   "outputs": [
    {
     "data": {
      "text/plain": [
       "array([0.67142857, 0.77142857, 0.67625899, 0.66906475, 0.74100719,\n",
       "       0.70503597, 0.76978417, 0.69784173, 0.66906475, 0.73381295])"
      ]
     },
     "execution_count": 102,
     "metadata": {},
     "output_type": "execute_result"
    }
   ],
   "source": [
    "result = cross_val_score(knn_model,\n",
    "                        X_train,\n",
    "                        y_train,\n",
    "                        cv = 10)\n",
    "result"
   ]
  },
  {
   "cell_type": "code",
   "execution_count": 103,
   "metadata": {},
   "outputs": [
    {
     "data": {
      "text/plain": [
       "0.7104727646454265"
      ]
     },
     "execution_count": 103,
     "metadata": {},
     "output_type": "execute_result"
    }
   ],
   "source": [
    "result.mean()"
   ]
  },
  {
   "cell_type": "code",
   "execution_count": 104,
   "metadata": {},
   "outputs": [],
   "source": [
    "knn_model.fit(X_train, y_train)\n",
    "pre = knn_model.predict(X_test)"
   ]
  },
  {
   "cell_type": "code",
   "execution_count": 105,
   "metadata": {},
   "outputs": [
    {
     "data": {
      "text/plain": [
       "numpy.ndarray"
      ]
     },
     "execution_count": 105,
     "metadata": {},
     "output_type": "execute_result"
    }
   ],
   "source": [
    "type(pre)"
   ]
  },
  {
   "cell_type": "code",
   "execution_count": 107,
   "metadata": {},
   "outputs": [],
   "source": [
    "pre = np.append(pre, np.array([0, 0, 0, 0]))"
   ]
  },
  {
   "cell_type": "code",
   "execution_count": 108,
   "metadata": {},
   "outputs": [
    {
     "data": {
      "text/plain": [
       "array([1, 1, 1, 1, 1, 1, 1, 0, 1, 1, 1, 1, 1, 1, 1, 1, 1, 1, 1, 1, 0, 1,\n",
       "       1, 1, 1, 1, 1, 0, 1, 1, 1, 1, 0, 1, 1, 1, 1, 1, 0, 1, 1, 0, 1, 1,\n",
       "       1, 1, 1, 1, 1, 1, 1, 1, 1, 1, 0, 1, 0, 1, 1, 1, 1, 0, 1, 0, 1, 1,\n",
       "       1, 0, 0, 1, 1, 1, 1, 1, 1, 1, 0, 0, 1, 0, 1, 1, 1, 1, 1, 0, 0, 1,\n",
       "       1, 1, 1, 1, 1, 1, 1, 1, 0, 1, 0, 0, 1, 1, 0, 1, 0, 1, 1, 1, 1, 0,\n",
       "       1, 1, 0, 0, 1, 1, 0, 0, 1, 0, 1, 1, 0, 0, 1, 0, 0, 1, 0, 1, 0, 0,\n",
       "       0, 1, 1, 1, 1, 1, 0, 1, 1, 0, 0, 1, 0, 1, 1, 0, 1, 1, 1, 1, 1, 1,\n",
       "       1, 1, 1, 1, 1, 0, 1, 0, 1, 0, 0, 1, 0, 1, 1, 1, 0, 1, 1, 0, 1, 1,\n",
       "       1, 1, 1, 1, 1, 1, 0, 0, 1, 1, 1, 1, 1, 1, 1, 0, 0, 1, 1, 1, 0, 1,\n",
       "       0, 0, 1, 1, 1, 1, 1, 1, 0, 0, 0, 1, 1, 1, 1, 1, 1, 1, 1, 0, 1, 1,\n",
       "       1, 1, 1, 0, 1, 1, 1, 0, 1, 0, 1, 1, 1, 1, 0, 0, 1, 1, 0, 1, 1, 1,\n",
       "       1, 1, 1, 1, 1, 0, 0, 1, 1, 1, 1, 1, 1, 0, 0, 1, 0, 0, 1, 0, 0, 1,\n",
       "       1, 1, 1, 1, 1, 1, 1, 1, 1, 0, 1, 1, 1, 0, 0, 1, 1, 1, 1, 1, 1, 1,\n",
       "       1, 1, 1, 1, 1, 1, 1, 1, 1, 1, 0, 1, 1, 1, 1, 1, 1, 1, 0, 1, 1, 1,\n",
       "       1, 1, 0, 1, 0, 0, 1, 1, 0, 0, 1, 1, 1, 1, 1, 1, 0, 1, 1, 0, 0, 1,\n",
       "       1, 0, 0, 1, 1, 1, 0, 1, 1, 1, 1, 1, 0, 0, 1, 1, 0, 0, 0, 0, 1, 0,\n",
       "       1, 0, 1, 1, 0, 1, 1, 1, 0, 1, 1, 1, 1, 1, 0, 1, 1, 1, 1, 1, 1, 1,\n",
       "       1, 1, 0, 1, 0, 1, 1, 0, 1, 0, 1, 1, 0, 1, 1, 1, 0, 1, 1, 1, 1, 0,\n",
       "       1, 1, 1, 1, 1, 1, 1, 0, 1, 1, 0, 1, 1, 0, 1, 1, 1, 1, 1, 1, 1, 1,\n",
       "       1, 1, 1, 1, 1, 1, 1, 1, 0, 0, 0, 0], dtype=int64)"
      ]
     },
     "execution_count": 108,
     "metadata": {},
     "output_type": "execute_result"
    }
   ],
   "source": [
    "pre"
   ]
  },
  {
   "cell_type": "code",
   "execution_count": 112,
   "metadata": {},
   "outputs": [],
   "source": [
    "result2 = pd.read_csv('smhrd111/submission.csv')"
   ]
  },
  {
   "cell_type": "code",
   "execution_count": 113,
   "metadata": {},
   "outputs": [],
   "source": [
    "result2['event'] = pre"
   ]
  },
  {
   "cell_type": "code",
   "execution_count": 115,
   "metadata": {},
   "outputs": [],
   "source": [
    "result2.to_csv('smhrd111/submission2.csv', index = False)"
   ]
  },
  {
   "cell_type": "code",
   "execution_count": null,
   "metadata": {},
   "outputs": [],
   "source": []
  }
 ],
 "metadata": {
  "kernelspec": {
   "display_name": "Python 3",
   "language": "python",
   "name": "python3"
  },
  "language_info": {
   "codemirror_mode": {
    "name": "ipython",
    "version": 3
   },
   "file_extension": ".py",
   "mimetype": "text/x-python",
   "name": "python",
   "nbconvert_exporter": "python",
   "pygments_lexer": "ipython3",
   "version": "3.8.5"
  }
 },
 "nbformat": 4,
 "nbformat_minor": 4
}
