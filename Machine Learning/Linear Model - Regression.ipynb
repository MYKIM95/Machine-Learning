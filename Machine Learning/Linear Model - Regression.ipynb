{
 "cells": [
  {
   "cell_type": "code",
   "execution_count": 22,
   "metadata": {},
   "outputs": [],
   "source": [
    "import pandas as pd\n",
    "import numpy as np\n",
    "import matplotlib.pyplot as plt"
   ]
  },
  {
   "cell_type": "markdown",
   "metadata": {},
   "source": [
    "### 성적 데이터 생성"
   ]
  },
  {
   "cell_type": "code",
   "execution_count": 23,
   "metadata": {},
   "outputs": [
    {
     "data": {
      "text/html": [
       "<div>\n",
       "<style scoped>\n",
       "    .dataframe tbody tr th:only-of-type {\n",
       "        vertical-align: middle;\n",
       "    }\n",
       "\n",
       "    .dataframe tbody tr th {\n",
       "        vertical-align: top;\n",
       "    }\n",
       "\n",
       "    .dataframe thead th {\n",
       "        text-align: right;\n",
       "    }\n",
       "</style>\n",
       "<table border=\"1\" class=\"dataframe\">\n",
       "  <thead>\n",
       "    <tr style=\"text-align: right;\">\n",
       "      <th></th>\n",
       "      <th>시간</th>\n",
       "      <th>성적</th>\n",
       "    </tr>\n",
       "  </thead>\n",
       "  <tbody>\n",
       "    <tr>\n",
       "      <th>호랑이</th>\n",
       "      <td>2</td>\n",
       "      <td>20</td>\n",
       "    </tr>\n",
       "    <tr>\n",
       "      <th>여우</th>\n",
       "      <td>4</td>\n",
       "      <td>40</td>\n",
       "    </tr>\n",
       "    <tr>\n",
       "      <th>북극곰</th>\n",
       "      <td>8</td>\n",
       "      <td>80</td>\n",
       "    </tr>\n",
       "    <tr>\n",
       "      <th>사자</th>\n",
       "      <td>9</td>\n",
       "      <td>90</td>\n",
       "    </tr>\n",
       "  </tbody>\n",
       "</table>\n",
       "</div>"
      ],
      "text/plain": [
       "     시간  성적\n",
       "호랑이   2  20\n",
       "여우    4  40\n",
       "북극곰   8  80\n",
       "사자    9  90"
      ]
     },
     "execution_count": 23,
     "metadata": {},
     "output_type": "execute_result"
    }
   ],
   "source": [
    "data = pd.DataFrame([[2,20],[4,40],[8,80],[9,90]], index = ['호랑이','여우','북극곰','사자'], columns = ['시간','성적'])\n",
    "data"
   ]
  },
  {
   "cell_type": "markdown",
   "metadata": {},
   "source": [
    "### 1. 경사하강법\n",
    "- 가중치(w)변화에 따른 비용함수(cost)값의 변화 그래프"
   ]
  },
  {
   "cell_type": "markdown",
   "metadata": {},
   "source": [
    "#### H(x)   (가설)"
   ]
  },
  {
   "cell_type": "code",
   "execution_count": 24,
   "metadata": {},
   "outputs": [],
   "source": [
    "def h(w, x):  # 가설함수\n",
    "    return w*x+0"
   ]
  },
  {
   "cell_type": "markdown",
   "metadata": {},
   "source": [
    "#### cost function (비용함수)"
   ]
  },
  {
   "cell_type": "code",
   "execution_count": 25,
   "metadata": {},
   "outputs": [],
   "source": [
    "def cost(data, target, weight):   # MSE(평균제곱오차)\n",
    "    y_pre = h(weight, data)       # 예측값\n",
    "    return ((y_pre - target) ** 2).mean()"
   ]
  },
  {
   "cell_type": "code",
   "execution_count": 26,
   "metadata": {},
   "outputs": [
    {
     "data": {
      "text/plain": [
       "2021.25"
      ]
     },
     "execution_count": 26,
     "metadata": {},
     "output_type": "execute_result"
    }
   ],
   "source": [
    "cost(data['시간'], data['성적'], 3)"
   ]
  },
  {
   "cell_type": "code",
   "execution_count": 27,
   "metadata": {},
   "outputs": [
    {
     "data": {
      "text/plain": [
       "0.0"
      ]
     },
     "execution_count": 27,
     "metadata": {},
     "output_type": "execute_result"
    }
   ],
   "source": [
    "cost(data['시간'], data['성적'], 10)"
   ]
  },
  {
   "cell_type": "code",
   "execution_count": 28,
   "metadata": {},
   "outputs": [],
   "source": [
    "weight_arr = range(-10,31)"
   ]
  },
  {
   "cell_type": "code",
   "execution_count": 29,
   "metadata": {},
   "outputs": [],
   "source": [
    "cost_list = []\n",
    "for w in weight_arr:\n",
    "    c = cost(data['시간'], data['성적'], w)\n",
    "    cost_list.append(c)"
   ]
  },
  {
   "cell_type": "code",
   "execution_count": 30,
   "metadata": {},
   "outputs": [
    {
     "data": {
      "text/plain": [
       "[16500.0,\n",
       " 14891.25,\n",
       " 13365.0,\n",
       " 11921.25,\n",
       " 10560.0,\n",
       " 9281.25,\n",
       " 8085.0,\n",
       " 6971.25,\n",
       " 5940.0,\n",
       " 4991.25,\n",
       " 4125.0,\n",
       " 3341.25,\n",
       " 2640.0,\n",
       " 2021.25,\n",
       " 1485.0,\n",
       " 1031.25,\n",
       " 660.0,\n",
       " 371.25,\n",
       " 165.0,\n",
       " 41.25,\n",
       " 0.0,\n",
       " 41.25,\n",
       " 165.0,\n",
       " 371.25,\n",
       " 660.0,\n",
       " 1031.25,\n",
       " 1485.0,\n",
       " 2021.25,\n",
       " 2640.0,\n",
       " 3341.25,\n",
       " 4125.0,\n",
       " 4991.25,\n",
       " 5940.0,\n",
       " 6971.25,\n",
       " 8085.0,\n",
       " 9281.25,\n",
       " 10560.0,\n",
       " 11921.25,\n",
       " 13365.0,\n",
       " 14891.25,\n",
       " 16500.0]"
      ]
     },
     "execution_count": 30,
     "metadata": {},
     "output_type": "execute_result"
    }
   ],
   "source": [
    "cost_list"
   ]
  },
  {
   "cell_type": "code",
   "execution_count": 31,
   "metadata": {},
   "outputs": [
    {
     "data": {
      "image/png": "[encoded data removed]",
      "text/plain": [
       "<Figure size 432x288 with 1 Axes>"
      ]
     },
     "metadata": {
      "needs_background": "light"
     },
     "output_type": "display_data"
    }
   ],
   "source": [
    "plt.plot(weight_arr, cost_list)\n",
    "plt.show()"
   ]
  },
  {
   "cell_type": "code",
   "execution_count": 32,
   "metadata": {},
   "outputs": [],
   "source": [
    "from sklearn.linear_model import SGDRegressor"
   ]
  },
  {
   "cell_type": "code",
   "execution_count": 33,
   "metadata": {},
   "outputs": [],
   "source": [
    "sgd_model = SGDRegressor(max_iter = 100, # 가중치 업데이트 횟수(epoch)\n",
    "                         eta0 = 0.001, # 학습률 (learning rate)\n",
    "                         verbose = 1) # 학습 과정 확인 가능"
   ]
  },
  {
   "cell_type": "code",
   "execution_count": 34,
   "metadata": {},
   "outputs": [
    {
     "name": "stdout",
     "output_type": "stream",
     "text": [
      "-- Epoch 1\n",
      "Norm: 1.27, NNZs: 1, Bias: 0.176580, T: 4, Avg. loss: 1896.040925\n",
      "Total training time: 0.00 seconds.\n",
      "-- Epoch 2\n",
      "Norm: 2.12, NNZs: 1, Bias: 0.296711, T: 8, Avg. loss: 1467.919165\n",
      "Total training time: 0.00 seconds.\n",
      "-- Epoch 3\n",
      "Norm: 2.81, NNZs: 1, Bias: 0.393454, T: 12, Avg. loss: 1199.342083\n",
      "Total training time: 0.00 seconds.\n",
      "-- Epoch 4\n",
      "Norm: 3.39, NNZs: 1, Bias: 0.474889, T: 16, Avg. loss: 996.027353\n",
      "Total training time: 0.00 seconds.\n",
      "-- Epoch 5\n",
      "Norm: 3.90, NNZs: 1, Bias: 0.545143, T: 20, Avg. loss: 840.377781\n",
      "Total training time: 0.00 seconds.\n",
      "-- Epoch 6\n",
      "Norm: 4.34, NNZs: 1, Bias: 0.606999, T: 24, Avg. loss: 714.363003\n",
      "Total training time: 0.00 seconds.\n",
      "-- Epoch 7\n",
      "Norm: 4.74, NNZs: 1, Bias: 0.661788, T: 28, Avg. loss: 612.701368\n",
      "Total training time: 0.00 seconds.\n",
      "-- Epoch 8\n",
      "Norm: 5.09, NNZs: 1, Bias: 0.711057, T: 32, Avg. loss: 527.916188\n",
      "Total training time: 0.00 seconds.\n",
      "-- Epoch 9\n",
      "Norm: 5.41, NNZs: 1, Bias: 0.755340, T: 36, Avg. loss: 457.656618\n",
      "Total training time: 0.00 seconds.\n",
      "-- Epoch 10\n",
      "Norm: 5.70, NNZs: 1, Bias: 0.795667, T: 40, Avg. loss: 398.013697\n",
      "Total training time: 0.00 seconds.\n",
      "-- Epoch 11\n",
      "Norm: 5.97, NNZs: 1, Bias: 0.832260, T: 44, Avg. loss: 347.742450\n",
      "Total training time: 0.00 seconds.\n",
      "-- Epoch 12\n",
      "Norm: 6.21, NNZs: 1, Bias: 0.865869, T: 48, Avg. loss: 304.546783\n",
      "Total training time: 0.00 seconds.\n",
      "-- Epoch 13\n",
      "Norm: 6.43, NNZs: 1, Bias: 0.896575, T: 52, Avg. loss: 267.698813\n",
      "Total training time: 0.00 seconds.\n",
      "-- Epoch 14\n",
      "Norm: 6.64, NNZs: 1, Bias: 0.924953, T: 56, Avg. loss: 235.750905\n",
      "Total training time: 0.00 seconds.\n",
      "-- Epoch 15\n",
      "Norm: 6.83, NNZs: 1, Bias: 0.951014, T: 60, Avg. loss: 208.249264\n",
      "Total training time: 0.00 seconds.\n",
      "-- Epoch 16\n",
      "Norm: 7.00, NNZs: 1, Bias: 0.975215, T: 64, Avg. loss: 184.236406\n",
      "Total training time: 0.00 seconds.\n",
      "-- Epoch 17\n",
      "Norm: 7.16, NNZs: 1, Bias: 0.997530, T: 68, Avg. loss: 163.416305\n",
      "Total training time: 0.00 seconds.\n",
      "-- Epoch 18\n",
      "Norm: 7.31, NNZs: 1, Bias: 1.018331, T: 72, Avg. loss: 145.133267\n",
      "Total training time: 0.00 seconds.\n",
      "-- Epoch 19\n",
      "Norm: 7.45, NNZs: 1, Bias: 1.037576, T: 76, Avg. loss: 129.187539\n",
      "Total training time: 0.00 seconds.\n",
      "-- Epoch 20\n",
      "Norm: 7.58, NNZs: 1, Bias: 1.055570, T: 80, Avg. loss: 115.118037\n",
      "Total training time: 0.00 seconds.\n",
      "-- Epoch 21\n",
      "Norm: 7.71, NNZs: 1, Bias: 1.072264, T: 84, Avg. loss: 102.786370\n",
      "Total training time: 0.00 seconds.\n",
      "-- Epoch 22\n",
      "Norm: 7.82, NNZs: 1, Bias: 1.087914, T: 88, Avg. loss: 91.861436\n",
      "Total training time: 0.00 seconds.\n",
      "-- Epoch 23\n",
      "Norm: 7.93, NNZs: 1, Bias: 1.102467, T: 92, Avg. loss: 82.245300\n",
      "Total training time: 0.00 seconds.\n",
      "-- Epoch 24\n",
      "Norm: 8.03, NNZs: 1, Bias: 1.116140, T: 96, Avg. loss: 73.696113\n",
      "Total training time: 0.00 seconds.\n",
      "-- Epoch 25\n",
      "Norm: 8.12, NNZs: 1, Bias: 1.128879, T: 100, Avg. loss: 66.143344\n",
      "Total training time: 0.00 seconds.\n",
      "-- Epoch 26\n",
      "Norm: 8.21, NNZs: 1, Bias: 1.140872, T: 104, Avg. loss: 59.407812\n",
      "Total training time: 0.00 seconds.\n",
      "-- Epoch 27\n",
      "Norm: 8.29, NNZs: 1, Bias: 1.152064, T: 108, Avg. loss: 53.437964\n",
      "Total training time: 0.00 seconds.\n",
      "-- Epoch 28\n",
      "Norm: 8.37, NNZs: 1, Bias: 1.162619, T: 112, Avg. loss: 48.099448\n",
      "Total training time: 0.00 seconds.\n",
      "-- Epoch 29\n",
      "Norm: 8.44, NNZs: 1, Bias: 1.172483, T: 116, Avg. loss: 43.354100\n",
      "Total training time: 0.00 seconds.\n",
      "-- Epoch 30\n",
      "Norm: 8.51, NNZs: 1, Bias: 1.181799, T: 120, Avg. loss: 39.100132\n",
      "Total training time: 0.00 seconds.\n",
      "-- Epoch 31\n",
      "Norm: 8.57, NNZs: 1, Bias: 1.190516, T: 124, Avg. loss: 35.308980\n",
      "Total training time: 0.00 seconds.\n",
      "-- Epoch 32\n",
      "Norm: 8.64, NNZs: 1, Bias: 1.198760, T: 128, Avg. loss: 31.902832\n",
      "Total training time: 0.00 seconds.\n",
      "-- Epoch 33\n",
      "Norm: 8.69, NNZs: 1, Bias: 1.206483, T: 132, Avg. loss: 28.860096\n",
      "Total training time: 0.00 seconds.\n",
      "-- Epoch 34\n",
      "Norm: 8.75, NNZs: 1, Bias: 1.213795, T: 136, Avg. loss: 26.120816\n",
      "Total training time: 0.00 seconds.\n",
      "-- Epoch 35\n",
      "Norm: 8.80, NNZs: 1, Bias: 1.220652, T: 140, Avg. loss: 23.668529\n",
      "Total training time: 0.00 seconds.\n",
      "-- Epoch 36\n",
      "Norm: 8.85, NNZs: 1, Bias: 1.227150, T: 144, Avg. loss: 21.456712\n",
      "Total training time: 0.00 seconds.\n",
      "-- Epoch 37\n",
      "Norm: 8.89, NNZs: 1, Bias: 1.233250, T: 148, Avg. loss: 19.472711\n",
      "Total training time: 0.00 seconds.\n",
      "-- Epoch 38\n",
      "Norm: 8.94, NNZs: 1, Bias: 1.239035, T: 152, Avg. loss: 17.680200\n",
      "Total training time: 0.00 seconds.\n",
      "-- Epoch 39\n",
      "Norm: 8.98, NNZs: 1, Bias: 1.244469, T: 156, Avg. loss: 16.069384\n",
      "Total training time: 0.00 seconds.\n",
      "-- Epoch 40\n",
      "Norm: 9.02, NNZs: 1, Bias: 1.249628, T: 160, Avg. loss: 14.611736\n",
      "Total training time: 0.00 seconds.\n",
      "-- Epoch 41\n",
      "Norm: 9.05, NNZs: 1, Bias: 1.254477, T: 164, Avg. loss: 13.299625\n",
      "Total training time: 0.00 seconds.\n",
      "-- Epoch 42\n",
      "Norm: 9.09, NNZs: 1, Bias: 1.259084, T: 168, Avg. loss: 12.110534\n",
      "Total training time: 0.00 seconds.\n",
      "-- Epoch 43\n",
      "Norm: 9.12, NNZs: 1, Bias: 1.263416, T: 172, Avg. loss: 11.038479\n",
      "Total training time: 0.00 seconds.\n",
      "-- Epoch 44\n",
      "Norm: 9.15, NNZs: 1, Bias: 1.267534, T: 176, Avg. loss: 10.065606\n",
      "Total training time: 0.00 seconds.\n",
      "-- Epoch 45\n",
      "Norm: 9.18, NNZs: 1, Bias: 1.271409, T: 180, Avg. loss: 9.187196\n",
      "Total training time: 0.00 seconds.\n",
      "-- Epoch 46\n",
      "Norm: 9.21, NNZs: 1, Bias: 1.275095, T: 184, Avg. loss: 8.389030\n",
      "Total training time: 0.00 seconds.\n",
      "-- Epoch 47\n",
      "Norm: 9.24, NNZs: 1, Bias: 1.278563, T: 188, Avg. loss: 7.667368\n",
      "Total training time: 0.00 seconds.\n",
      "-- Epoch 48\n",
      "Norm: 9.26, NNZs: 1, Bias: 1.281865, T: 192, Avg. loss: 7.010841\n",
      "Total training time: 0.00 seconds.\n",
      "-- Epoch 49\n",
      "Norm: 9.29, NNZs: 1, Bias: 1.284972, T: 196, Avg. loss: 6.416471\n",
      "Total training time: 0.00 seconds.\n",
      "-- Epoch 50\n",
      "Norm: 9.31, NNZs: 1, Bias: 1.287932, T: 200, Avg. loss: 5.875134\n",
      "Total training time: 0.00 seconds.\n",
      "-- Epoch 51\n",
      "Norm: 9.33, NNZs: 1, Bias: 1.290718, T: 204, Avg. loss: 5.384447\n",
      "Total training time: 0.00 seconds.\n",
      "-- Epoch 52\n",
      "Norm: 9.35, NNZs: 1, Bias: 1.293372, T: 208, Avg. loss: 4.937064\n",
      "Total training time: 0.00 seconds.\n",
      "-- Epoch 53\n",
      "Norm: 9.37, NNZs: 1, Bias: 1.295871, T: 212, Avg. loss: 4.531069\n",
      "Total training time: 0.00 seconds.\n",
      "-- Epoch 54\n",
      "Norm: 9.39, NNZs: 1, Bias: 1.298252, T: 216, Avg. loss: 4.160529\n",
      "Total training time: 0.00 seconds.\n",
      "-- Epoch 55\n",
      "Norm: 9.41, NNZs: 1, Bias: 1.300494, T: 220, Avg. loss: 3.823898\n",
      "Total training time: 0.00 seconds.\n",
      "-- Epoch 56\n",
      "Norm: 9.43, NNZs: 1, Bias: 1.302631, T: 224, Avg. loss: 3.516370\n",
      "Total training time: 0.00 seconds.\n",
      "-- Epoch 57\n",
      "Norm: 9.44, NNZs: 1, Bias: 1.304643, T: 228, Avg. loss: 3.236691\n",
      "Total training time: 0.00 seconds.\n",
      "-- Epoch 58\n",
      "Norm: 9.46, NNZs: 1, Bias: 1.306562, T: 232, Avg. loss: 2.980959\n",
      "Total training time: 0.00 seconds.\n",
      "-- Epoch 59\n",
      "Norm: 9.48, NNZs: 1, Bias: 1.308368, T: 236, Avg. loss: 2.748153\n",
      "Total training time: 0.00 seconds.\n",
      "-- Epoch 60\n",
      "Norm: 9.49, NNZs: 1, Bias: 1.310090, T: 240, Avg. loss: 2.535097\n",
      "Total training time: 0.00 seconds.\n",
      "-- Epoch 61\n",
      "Norm: 9.50, NNZs: 1, Bias: 1.311710, T: 244, Avg. loss: 2.340955\n",
      "Total training time: 0.00 seconds.\n",
      "-- Epoch 62\n",
      "Norm: 9.52, NNZs: 1, Bias: 1.313255, T: 248, Avg. loss: 2.163136\n",
      "Total training time: 0.00 seconds.\n",
      "-- Epoch 63\n",
      "Norm: 9.53, NNZs: 1, Bias: 1.314708, T: 252, Avg. loss: 2.000955\n",
      "Total training time: 0.00 seconds.\n",
      "-- Epoch 64\n",
      "Norm: 9.54, NNZs: 1, Bias: 1.316095, T: 256, Avg. loss: 1.852293\n",
      "Total training time: 0.00 seconds.\n",
      "-- Epoch 65\n",
      "Norm: 9.55, NNZs: 1, Bias: 1.317397, T: 260, Avg. loss: 1.716586\n",
      "Total training time: 0.00 seconds.\n",
      "-- Epoch 66\n",
      "Norm: 9.56, NNZs: 1, Bias: 1.318640, T: 264, Avg. loss: 1.592096\n",
      "Total training time: 0.00 seconds.\n",
      "-- Epoch 67\n",
      "Norm: 9.57, NNZs: 1, Bias: 1.319808, T: 268, Avg. loss: 1.478360\n",
      "Total training time: 0.00 seconds.\n",
      "-- Epoch 68\n",
      "Norm: 9.58, NNZs: 1, Bias: 1.320921, T: 272, Avg. loss: 1.373949\n",
      "Total training time: 0.00 seconds.\n",
      "-- Epoch 69\n",
      "Norm: 9.59, NNZs: 1, Bias: 1.321966, T: 276, Avg. loss: 1.278480\n",
      "Total training time: 0.00 seconds.\n",
      "-- Epoch 70\n",
      "Norm: 9.60, NNZs: 1, Bias: 1.322962, T: 280, Avg. loss: 1.190778\n",
      "Total training time: 0.00 seconds.\n",
      "-- Epoch 71\n",
      "Norm: 9.61, NNZs: 1, Bias: 1.323896, T: 284, Avg. loss: 1.110524\n",
      "Total training time: 0.00 seconds.\n",
      "-- Epoch 72\n",
      "Norm: 9.62, NNZs: 1, Bias: 1.324787, T: 288, Avg. loss: 1.036750\n",
      "Total training time: 0.00 seconds.\n",
      "-- Epoch 73\n",
      "Norm: 9.62, NNZs: 1, Bias: 1.325621, T: 292, Avg. loss: 0.969190\n",
      "Total training time: 0.00 seconds.\n",
      "-- Epoch 74\n",
      "Norm: 9.63, NNZs: 1, Bias: 1.326416, T: 296, Avg. loss: 0.907046\n",
      "Total training time: 0.00 seconds.\n",
      "-- Epoch 75\n",
      "Norm: 9.64, NNZs: 1, Bias: 1.327159, T: 300, Avg. loss: 0.850094\n",
      "Total training time: 0.00 seconds.\n",
      "-- Epoch 76\n",
      "Norm: 9.65, NNZs: 1, Bias: 1.327867, T: 304, Avg. loss: 0.797674\n",
      "Total training time: 0.00 seconds.\n",
      "-- Epoch 77\n",
      "Norm: 9.65, NNZs: 1, Bias: 1.328528, T: 308, Avg. loss: 0.749601\n",
      "Total training time: 0.00 seconds.\n",
      "-- Epoch 78\n",
      "Norm: 9.66, NNZs: 1, Bias: 1.329158, T: 312, Avg. loss: 0.705327\n",
      "Total training time: 0.00 seconds.\n",
      "-- Epoch 79\n",
      "Norm: 9.67, NNZs: 1, Bias: 1.329744, T: 316, Avg. loss: 0.664696\n",
      "Total training time: 0.00 seconds.\n",
      "-- Epoch 80\n",
      "Norm: 9.67, NNZs: 1, Bias: 1.330302, T: 320, Avg. loss: 0.627254\n",
      "Total training time: 0.00 seconds.\n",
      "-- Epoch 81\n",
      "Norm: 9.68, NNZs: 1, Bias: 1.330820, T: 324, Avg. loss: 0.592870\n",
      "Total training time: 0.00 seconds.\n",
      "-- Epoch 82\n",
      "Norm: 9.68, NNZs: 1, Bias: 1.331313, T: 328, Avg. loss: 0.561167\n",
      "Total training time: 0.00 seconds.\n",
      "-- Epoch 83\n",
      "Norm: 9.69, NNZs: 1, Bias: 1.331769, T: 332, Avg. loss: 0.532034\n",
      "Total training time: 0.00 seconds.\n",
      "-- Epoch 84\n",
      "Norm: 9.69, NNZs: 1, Bias: 1.332203, T: 336, Avg. loss: 0.505159\n",
      "Total training time: 0.00 seconds.\n",
      "-- Epoch 85\n",
      "Norm: 9.70, NNZs: 1, Bias: 1.332604, T: 340, Avg. loss: 0.480446\n",
      "Total training time: 0.00 seconds.\n",
      "-- Epoch 86\n",
      "Norm: 9.70, NNZs: 1, Bias: 1.332984, T: 344, Avg. loss: 0.457636\n",
      "Total training time: 0.00 seconds.\n",
      "-- Epoch 87\n",
      "Norm: 9.71, NNZs: 1, Bias: 1.333333, T: 348, Avg. loss: 0.436648\n",
      "Total training time: 0.00 seconds.\n",
      "-- Epoch 88\n",
      "Norm: 9.71, NNZs: 1, Bias: 1.333665, T: 352, Avg. loss: 0.417266\n",
      "Total training time: 0.00 seconds.\n",
      "-- Epoch 89\n",
      "Norm: 9.71, NNZs: 1, Bias: 1.333968, T: 356, Avg. loss: 0.399421\n",
      "Total training time: 0.00 seconds.\n",
      "-- Epoch 90\n",
      "Norm: 9.72, NNZs: 1, Bias: 1.334254, T: 360, Avg. loss: 0.382934\n",
      "Total training time: 0.00 seconds.\n",
      "-- Epoch 91\n",
      "Norm: 9.72, NNZs: 1, Bias: 1.334515, T: 364, Avg. loss: 0.367745\n",
      "Total training time: 0.00 seconds.\n",
      "-- Epoch 92\n",
      "Norm: 9.72, NNZs: 1, Bias: 1.334761, T: 368, Avg. loss: 0.353704\n",
      "Total training time: 0.00 seconds.\n",
      "-- Epoch 93\n",
      "Norm: 9.73, NNZs: 1, Bias: 1.334983, T: 372, Avg. loss: 0.340762\n",
      "Total training time: 0.00 seconds.\n",
      "-- Epoch 94\n",
      "Norm: 9.73, NNZs: 1, Bias: 1.335192, T: 376, Avg. loss: 0.328792\n",
      "Total training time: 0.00 seconds.\n",
      "-- Epoch 95\n",
      "Norm: 9.73, NNZs: 1, Bias: 1.335378, T: 380, Avg. loss: 0.317751\n",
      "Total training time: 0.00 seconds.\n",
      "-- Epoch 96\n",
      "Norm: 9.74, NNZs: 1, Bias: 1.335553, T: 384, Avg. loss: 0.307535\n",
      "Total training time: 0.00 seconds.\n",
      "-- Epoch 97\n",
      "Norm: 9.74, NNZs: 1, Bias: 1.335708, T: 388, Avg. loss: 0.298108\n",
      "Total training time: 0.00 seconds.\n",
      "-- Epoch 98\n",
      "Norm: 9.74, NNZs: 1, Bias: 1.335852, T: 392, Avg. loss: 0.289380\n",
      "Total training time: 0.00 seconds.\n",
      "-- Epoch 99\n",
      "Norm: 9.75, NNZs: 1, Bias: 1.335977, T: 396, Avg. loss: 0.281321\n",
      "Total training time: 0.00 seconds.\n",
      "-- Epoch 100\n",
      "Norm: 9.75, NNZs: 1, Bias: 1.336093, T: 400, Avg. loss: 0.273855\n",
      "Total training time: 0.00 seconds.\n"
     ]
    },
    {
     "name": "stderr",
     "output_type": "stream",
     "text": [
      "C:\\Users\\smhrd\\Anaconda3\\lib\\site-packages\\sklearn\\linear_model\\_stochastic_gradient.py:1208: ConvergenceWarning: Maximum number of iteration reached before convergence. Consider increasing max_iter to improve the fit.\n",
      "  warnings.warn(\"Maximum number of iteration reached before \"\n"
     ]
    },
    {
     "data": {
      "text/plain": [
       "SGDRegressor(eta0=0.001, max_iter=100, verbose=1)"
      ]
     },
     "execution_count": 34,
     "metadata": {},
     "output_type": "execute_result"
    }
   ],
   "source": [
    "sgd_model.fit(data[['시간']], data['성적']) # 주의 : 문제는 2차원 형태로 넣어줘야 함."
   ]
  },
  {
   "cell_type": "code",
   "execution_count": 35,
   "metadata": {},
   "outputs": [
    {
     "data": {
      "text/plain": [
       "array([69.5697089])"
      ]
     },
     "execution_count": 35,
     "metadata": {},
     "output_type": "execute_result"
    }
   ],
   "source": [
    "sgd_model.predict([[7]])"
   ]
  },
  {
   "cell_type": "code",
   "execution_count": 36,
   "metadata": {},
   "outputs": [
    {
     "name": "stdout",
     "output_type": "stream",
     "text": [
      "[9.74765943]\n",
      "[1.33609289]\n"
     ]
    }
   ],
   "source": [
    "print(sgd_model.coef_)  # 가중치값\n",
    "print(sgd_model.intercept_) # 바이어스 값"
   ]
  },
  {
   "cell_type": "markdown",
   "metadata": {},
   "source": [
    "### 수학 공식을 이용한 해석적 모델\n",
    "- LinearRegression"
   ]
  },
  {
   "cell_type": "code",
   "execution_count": 37,
   "metadata": {},
   "outputs": [],
   "source": [
    "from sklearn.linear_model import LinearRegression"
   ]
  },
  {
   "cell_type": "code",
   "execution_count": 38,
   "metadata": {},
   "outputs": [],
   "source": [
    "linear_model = LinearRegression()"
   ]
  },
  {
   "cell_type": "code",
   "execution_count": 39,
   "metadata": {},
   "outputs": [
    {
     "data": {
      "text/plain": [
       "LinearRegression()"
      ]
     },
     "execution_count": 39,
     "metadata": {},
     "output_type": "execute_result"
    }
   ],
   "source": [
    "linear_model.fit(data[['시간']], data[['성적']])"
   ]
  },
  {
   "cell_type": "code",
   "execution_count": 40,
   "metadata": {},
   "outputs": [
    {
     "data": {
      "text/plain": [
       "array([[70.]])"
      ]
     },
     "execution_count": 40,
     "metadata": {},
     "output_type": "execute_result"
    }
   ],
   "source": [
    "linear_model.predict([[7]])"
   ]
  },
  {
   "cell_type": "code",
   "execution_count": 41,
   "metadata": {},
   "outputs": [
    {
     "name": "stdout",
     "output_type": "stream",
     "text": [
      "[[10.]]\n",
      "[7.10542736e-15]\n"
     ]
    }
   ],
   "source": [
    "print(linear_model.coef_)  # 가중치값\n",
    "print(linear_model.intercept_) # 바이어스 값"
   ]
  },
  {
   "cell_type": "code",
   "execution_count": 42,
   "metadata": {},
   "outputs": [
    {
     "data": {
      "image/png": "[encoded data removed]",
      "text/plain": [
       "<Figure size 432x288 with 1 Axes>"
      ]
     },
     "metadata": {
      "needs_background": "light"
     },
     "output_type": "display_data"
    }
   ],
   "source": [
    "X = data['시간']\n",
    "y = data['성적']\n",
    "plt.plot(X,y, 'o')\n",
    "plt.plot(X,linear_model.predict(X.values.reshape(-1,1)))\n",
    "plt.show()"
   ]
  },
  {
   "cell_type": "code",
   "execution_count": 43,
   "metadata": {},
   "outputs": [
    {
     "data": {
      "text/plain": [
       "array([[2],\n",
       "       [4],\n",
       "       [8],\n",
       "       [9]], dtype=int64)"
      ]
     },
     "execution_count": 43,
     "metadata": {},
     "output_type": "execute_result"
    }
   ],
   "source": [
    "X.values.reshape(-1,1)"
   ]
  },
  {
   "cell_type": "code",
   "execution_count": null,
   "metadata": {},
   "outputs": [],
   "source": []
  }
 ],
 "metadata": {
  "kernelspec": {
   "display_name": "Python 3",
   "language": "python",
   "name": "python3"
  },
  "language_info": {
   "codemirror_mode": {
    "name": "ipython",
    "version": 3
   },
   "file_extension": ".py",
   "mimetype": "text/x-python",
   "name": "python",
   "nbconvert_exporter": "python",
   "pygments_lexer": "ipython3",
   "version": "3.8.5"
  }
 },
 "nbformat": 4,
 "nbformat_minor": 4
}
