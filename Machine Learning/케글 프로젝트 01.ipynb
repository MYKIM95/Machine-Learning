{
 "cells": [
  {
   "cell_type": "code",
   "execution_count": 2,
   "metadata": {},
   "outputs": [],
   "source": [
    "import pandas as pd\n",
    "import matplotlib.pyplot as plt  # 그래프 그리는 라이브러리\n",
    "from sklearn.model_selection import train_test_split\n",
    "from sklearn import metrics  # 평가를 위한 라이브러리\n",
    "from sklearn.tree import DecisionTreeClassifier\n",
    "\n",
    "import numpy as np\n",
    "import seaborn as sns  # 시각화 라이브러리\n",
    "\n",
    "from sklearn.neighbors import KNeighborsClassifier\n",
    "from sklearn.model_selection import cross_val_score"
   ]
  },
  {
   "cell_type": "code",
   "execution_count": 3,
   "metadata": {},
   "outputs": [],
   "source": [
    "train = pd.read_csv('smhrd111/train.csv', index_col = 'ID')\n",
    "test = pd.read_csv('smhrd111/test.csv', index_col = 'ID')"
   ]
  },
  {
   "cell_type": "code",
   "execution_count": 4,
   "metadata": {},
   "outputs": [
    {
     "name": "stdout",
     "output_type": "stream",
     "text": [
      "<class 'pandas.core.frame.DataFrame'>\n",
      "Int64Index: 699 entries, 1 to 699\n",
      "Data columns (total 16 columns):\n",
      " #   Column        Non-Null Count  Dtype  \n",
      "---  ------        --------------  -----  \n",
      " 0   stag          516 non-null    float64\n",
      " 1   event         699 non-null    int64  \n",
      " 2   gender        699 non-null    object \n",
      " 3   age           699 non-null    float64\n",
      " 4   industry      672 non-null    object \n",
      " 5   profession    699 non-null    object \n",
      " 6   traffic       699 non-null    object \n",
      " 7   coach         699 non-null    object \n",
      " 8   head_gender   699 non-null    object \n",
      " 9   greywage      679 non-null    object \n",
      " 10  way           678 non-null    object \n",
      " 11  extraversion  699 non-null    float64\n",
      " 12  independ      699 non-null    float64\n",
      " 13  selfcontrol   666 non-null    float64\n",
      " 14  anxiety       699 non-null    float64\n",
      " 15  novator       699 non-null    float64\n",
      "dtypes: float64(7), int64(1), object(8)\n",
      "memory usage: 92.8+ KB\n"
     ]
    }
   ],
   "source": [
    "train.info()"
   ]
  },
  {
   "cell_type": "code",
   "execution_count": 5,
   "metadata": {},
   "outputs": [
    {
     "name": "stdout",
     "output_type": "stream",
     "text": [
      "<class 'pandas.core.frame.DataFrame'>\n",
      "Int64Index: 430 entries, 700 to 1129\n",
      "Data columns (total 15 columns):\n",
      " #   Column        Non-Null Count  Dtype  \n",
      "---  ------        --------------  -----  \n",
      " 0   stag          321 non-null    float64\n",
      " 1   gender        430 non-null    object \n",
      " 2   age           430 non-null    float64\n",
      " 3   industry      430 non-null    object \n",
      " 4   profession    430 non-null    object \n",
      " 5   traffic       430 non-null    object \n",
      " 6   coach         430 non-null    object \n",
      " 7   head_gender   360 non-null    object \n",
      " 8   greywage      430 non-null    object \n",
      " 9   way           430 non-null    object \n",
      " 10  extraversion  430 non-null    float64\n",
      " 11  independ      430 non-null    float64\n",
      " 12  selfcontrol   385 non-null    float64\n",
      " 13  anxiety       430 non-null    float64\n",
      " 14  novator       430 non-null    float64\n",
      "dtypes: float64(7), object(8)\n",
      "memory usage: 53.8+ KB\n"
     ]
    }
   ],
   "source": [
    "test.info()"
   ]
  },
  {
   "cell_type": "code",
   "execution_count": 6,
   "metadata": {},
   "outputs": [
    {
     "data": {
      "text/html": [
       "<div>\n",
       "<style scoped>\n",
       "    .dataframe tbody tr th:only-of-type {\n",
       "        vertical-align: middle;\n",
       "    }\n",
       "\n",
       "    .dataframe tbody tr th {\n",
       "        vertical-align: top;\n",
       "    }\n",
       "\n",
       "    .dataframe thead th {\n",
       "        text-align: right;\n",
       "    }\n",
       "</style>\n",
       "<table border=\"1\" class=\"dataframe\">\n",
       "  <thead>\n",
       "    <tr style=\"text-align: right;\">\n",
       "      <th></th>\n",
       "      <th>stag</th>\n",
       "      <th>event</th>\n",
       "      <th>age</th>\n",
       "      <th>extraversion</th>\n",
       "      <th>independ</th>\n",
       "      <th>selfcontrol</th>\n",
       "      <th>anxiety</th>\n",
       "      <th>novator</th>\n",
       "    </tr>\n",
       "  </thead>\n",
       "  <tbody>\n",
       "    <tr>\n",
       "      <th>stag</th>\n",
       "      <td>1.000000</td>\n",
       "      <td>-0.070421</td>\n",
       "      <td>-0.214415</td>\n",
       "      <td>-0.078248</td>\n",
       "      <td>-0.013056</td>\n",
       "      <td>0.102294</td>\n",
       "      <td>0.042807</td>\n",
       "      <td>-0.039662</td>\n",
       "    </tr>\n",
       "    <tr>\n",
       "      <th>event</th>\n",
       "      <td>-0.070421</td>\n",
       "      <td>1.000000</td>\n",
       "      <td>0.008723</td>\n",
       "      <td>0.013961</td>\n",
       "      <td>-0.007915</td>\n",
       "      <td>-0.049588</td>\n",
       "      <td>-0.022668</td>\n",
       "      <td>0.022554</td>\n",
       "    </tr>\n",
       "    <tr>\n",
       "      <th>age</th>\n",
       "      <td>-0.214415</td>\n",
       "      <td>0.008723</td>\n",
       "      <td>1.000000</td>\n",
       "      <td>-0.169429</td>\n",
       "      <td>0.074582</td>\n",
       "      <td>0.032276</td>\n",
       "      <td>0.060051</td>\n",
       "      <td>0.020334</td>\n",
       "    </tr>\n",
       "    <tr>\n",
       "      <th>extraversion</th>\n",
       "      <td>-0.078248</td>\n",
       "      <td>0.013961</td>\n",
       "      <td>-0.169429</td>\n",
       "      <td>1.000000</td>\n",
       "      <td>-0.208904</td>\n",
       "      <td>-0.512422</td>\n",
       "      <td>-0.150632</td>\n",
       "      <td>0.287073</td>\n",
       "    </tr>\n",
       "    <tr>\n",
       "      <th>independ</th>\n",
       "      <td>-0.013056</td>\n",
       "      <td>-0.007915</td>\n",
       "      <td>0.074582</td>\n",
       "      <td>-0.208904</td>\n",
       "      <td>1.000000</td>\n",
       "      <td>-0.202594</td>\n",
       "      <td>-0.418896</td>\n",
       "      <td>0.038421</td>\n",
       "    </tr>\n",
       "    <tr>\n",
       "      <th>selfcontrol</th>\n",
       "      <td>0.102294</td>\n",
       "      <td>-0.049588</td>\n",
       "      <td>0.032276</td>\n",
       "      <td>-0.512422</td>\n",
       "      <td>-0.202594</td>\n",
       "      <td>1.000000</td>\n",
       "      <td>-0.074452</td>\n",
       "      <td>-0.573815</td>\n",
       "    </tr>\n",
       "    <tr>\n",
       "      <th>anxiety</th>\n",
       "      <td>0.042807</td>\n",
       "      <td>-0.022668</td>\n",
       "      <td>0.060051</td>\n",
       "      <td>-0.150632</td>\n",
       "      <td>-0.418896</td>\n",
       "      <td>-0.074452</td>\n",
       "      <td>1.000000</td>\n",
       "      <td>0.255866</td>\n",
       "    </tr>\n",
       "    <tr>\n",
       "      <th>novator</th>\n",
       "      <td>-0.039662</td>\n",
       "      <td>0.022554</td>\n",
       "      <td>0.020334</td>\n",
       "      <td>0.287073</td>\n",
       "      <td>0.038421</td>\n",
       "      <td>-0.573815</td>\n",
       "      <td>0.255866</td>\n",
       "      <td>1.000000</td>\n",
       "    </tr>\n",
       "  </tbody>\n",
       "</table>\n",
       "</div>"
      ],
      "text/plain": [
       "                  stag     event       age  extraversion  independ  \\\n",
       "stag          1.000000 -0.070421 -0.214415     -0.078248 -0.013056   \n",
       "event        -0.070421  1.000000  0.008723      0.013961 -0.007915   \n",
       "age          -0.214415  0.008723  1.000000     -0.169429  0.074582   \n",
       "extraversion -0.078248  0.013961 -0.169429      1.000000 -0.208904   \n",
       "independ     -0.013056 -0.007915  0.074582     -0.208904  1.000000   \n",
       "selfcontrol   0.102294 -0.049588  0.032276     -0.512422 -0.202594   \n",
       "anxiety       0.042807 -0.022668  0.060051     -0.150632 -0.418896   \n",
       "novator      -0.039662  0.022554  0.020334      0.287073  0.038421   \n",
       "\n",
       "              selfcontrol   anxiety   novator  \n",
       "stag             0.102294  0.042807 -0.039662  \n",
       "event           -0.049588 -0.022668  0.022554  \n",
       "age              0.032276  0.060051  0.020334  \n",
       "extraversion    -0.512422 -0.150632  0.287073  \n",
       "independ        -0.202594 -0.418896  0.038421  \n",
       "selfcontrol      1.000000 -0.074452 -0.573815  \n",
       "anxiety         -0.074452  1.000000  0.255866  \n",
       "novator         -0.573815  0.255866  1.000000  "
      ]
     },
     "execution_count": 6,
     "metadata": {},
     "output_type": "execute_result"
    }
   ],
   "source": [
    "train.corr()"
   ]
  },
  {
   "cell_type": "code",
   "execution_count": 7,
   "metadata": {},
   "outputs": [
    {
     "data": {
      "text/html": [
       "<div>\n",
       "<style scoped>\n",
       "    .dataframe tbody tr th:only-of-type {\n",
       "        vertical-align: middle;\n",
       "    }\n",
       "\n",
       "    .dataframe tbody tr th {\n",
       "        vertical-align: top;\n",
       "    }\n",
       "\n",
       "    .dataframe thead th {\n",
       "        text-align: right;\n",
       "    }\n",
       "</style>\n",
       "<table border=\"1\" class=\"dataframe\">\n",
       "  <thead>\n",
       "    <tr style=\"text-align: right;\">\n",
       "      <th></th>\n",
       "      <th></th>\n",
       "      <th>stag</th>\n",
       "    </tr>\n",
       "    <tr>\n",
       "      <th>coach</th>\n",
       "      <th>gender</th>\n",
       "      <th></th>\n",
       "    </tr>\n",
       "  </thead>\n",
       "  <tbody>\n",
       "    <tr>\n",
       "      <th rowspan=\"2\" valign=\"top\">my head</th>\n",
       "      <th>f</th>\n",
       "      <td>37.592777</td>\n",
       "    </tr>\n",
       "    <tr>\n",
       "      <th>m</th>\n",
       "      <td>35.997760</td>\n",
       "    </tr>\n",
       "    <tr>\n",
       "      <th rowspan=\"2\" valign=\"top\">no</th>\n",
       "      <th>f</th>\n",
       "      <td>33.495768</td>\n",
       "    </tr>\n",
       "    <tr>\n",
       "      <th>m</th>\n",
       "      <td>46.687709</td>\n",
       "    </tr>\n",
       "    <tr>\n",
       "      <th rowspan=\"2\" valign=\"top\">yes</th>\n",
       "      <th>f</th>\n",
       "      <td>38.830323</td>\n",
       "    </tr>\n",
       "    <tr>\n",
       "      <th>m</th>\n",
       "      <td>31.132101</td>\n",
       "    </tr>\n",
       "  </tbody>\n",
       "</table>\n",
       "</div>"
      ],
      "text/plain": [
       "                     stag\n",
       "coach   gender           \n",
       "my head f       37.592777\n",
       "        m       35.997760\n",
       "no      f       33.495768\n",
       "        m       46.687709\n",
       "yes     f       38.830323\n",
       "        m       31.132101"
      ]
     },
     "execution_count": 7,
     "metadata": {},
     "output_type": "execute_result"
    }
   ],
   "source": [
    "pd.set_option('display.max_row', 500)\n",
    "pt1 = train.pivot_table(values = 'stag', index = ['coach', 'gender'], aggfunc = 'mean')\n",
    "pt1"
   ]
  },
  {
   "cell_type": "markdown",
   "metadata": {},
   "source": [
    "### 나이 결측치 채우기 (coach 와 성별 기준)"
   ]
  },
  {
   "cell_type": "code",
   "execution_count": 8,
   "metadata": {},
   "outputs": [],
   "source": [
    "def fill_stag(df):\n",
    "    # 만약 나이가 결측치라면 피봇테이블에서 값을 가져와서 채운다.\n",
    "    if np.isnan(df['stag']): # 결측치이면 true, 아니면 false\n",
    "        return pt1.loc[df['coach'],df['gender']]\n",
    "    # 만약 나이가 결측치가 아니라면 원래 나이값을 사용하자\n",
    "    else:\n",
    "        return df['stag']"
   ]
  },
  {
   "cell_type": "code",
   "execution_count": 9,
   "metadata": {},
   "outputs": [],
   "source": [
    "train['stag'] = train.apply(fill_stag, axis = 1).astype('float64')"
   ]
  },
  {
   "cell_type": "code",
   "execution_count": 10,
   "metadata": {},
   "outputs": [
    {
     "name": "stdout",
     "output_type": "stream",
     "text": [
      "<class 'pandas.core.frame.DataFrame'>\n",
      "Int64Index: 699 entries, 1 to 699\n",
      "Data columns (total 16 columns):\n",
      " #   Column        Non-Null Count  Dtype  \n",
      "---  ------        --------------  -----  \n",
      " 0   stag          699 non-null    float64\n",
      " 1   event         699 non-null    int64  \n",
      " 2   gender        699 non-null    object \n",
      " 3   age           699 non-null    float64\n",
      " 4   industry      672 non-null    object \n",
      " 5   profession    699 non-null    object \n",
      " 6   traffic       699 non-null    object \n",
      " 7   coach         699 non-null    object \n",
      " 8   head_gender   699 non-null    object \n",
      " 9   greywage      679 non-null    object \n",
      " 10  way           678 non-null    object \n",
      " 11  extraversion  699 non-null    float64\n",
      " 12  independ      699 non-null    float64\n",
      " 13  selfcontrol   666 non-null    float64\n",
      " 14  anxiety       699 non-null    float64\n",
      " 15  novator       699 non-null    float64\n",
      "dtypes: float64(7), int64(1), object(8)\n",
      "memory usage: 92.8+ KB\n"
     ]
    }
   ],
   "source": [
    "train.info()"
   ]
  },
  {
   "cell_type": "code",
   "execution_count": 11,
   "metadata": {},
   "outputs": [],
   "source": [
    "test['stag'] = test.apply(fill_stag, axis = 1).astype('float64')"
   ]
  },
  {
   "cell_type": "code",
   "execution_count": 12,
   "metadata": {},
   "outputs": [
    {
     "name": "stdout",
     "output_type": "stream",
     "text": [
      "<class 'pandas.core.frame.DataFrame'>\n",
      "Int64Index: 430 entries, 700 to 1129\n",
      "Data columns (total 15 columns):\n",
      " #   Column        Non-Null Count  Dtype  \n",
      "---  ------        --------------  -----  \n",
      " 0   stag          430 non-null    float64\n",
      " 1   gender        430 non-null    object \n",
      " 2   age           430 non-null    float64\n",
      " 3   industry      430 non-null    object \n",
      " 4   profession    430 non-null    object \n",
      " 5   traffic       430 non-null    object \n",
      " 6   coach         430 non-null    object \n",
      " 7   head_gender   360 non-null    object \n",
      " 8   greywage      430 non-null    object \n",
      " 9   way           430 non-null    object \n",
      " 10  extraversion  430 non-null    float64\n",
      " 11  independ      430 non-null    float64\n",
      " 12  selfcontrol   385 non-null    float64\n",
      " 13  anxiety       430 non-null    float64\n",
      " 14  novator       430 non-null    float64\n",
      "dtypes: float64(7), object(8)\n",
      "memory usage: 53.8+ KB\n"
     ]
    }
   ],
   "source": [
    "test.info()"
   ]
  },
  {
   "cell_type": "markdown",
   "metadata": {},
   "source": [
    "### train 결측치 채우기 (제일 빈도수 많은 값으로)"
   ]
  },
  {
   "cell_type": "code",
   "execution_count": 13,
   "metadata": {},
   "outputs": [
    {
     "data": {
      "text/plain": [
       "Retail             171\n",
       "manufacture         80\n",
       "Banks               79\n",
       "etc                 63\n",
       "Consult             44\n",
       "IT                  44\n",
       "State               40\n",
       "Building            32\n",
       "transport           26\n",
       "Telecom             21\n",
       "PowerGeneration     19\n",
       "Pharma              16\n",
       "Agriculture         11\n",
       "Mining              10\n",
       " HoReCa              8\n",
       "RealEstate           8\n",
       "Name: industry, dtype: int64"
      ]
     },
     "execution_count": 13,
     "metadata": {},
     "output_type": "execute_result"
    }
   ],
   "source": [
    "train['industry'].value_counts()"
   ]
  },
  {
   "cell_type": "code",
   "execution_count": 14,
   "metadata": {},
   "outputs": [],
   "source": [
    "train['industry'] = train['industry'].fillna('Retail')"
   ]
  },
  {
   "cell_type": "code",
   "execution_count": 15,
   "metadata": {},
   "outputs": [
    {
     "data": {
      "text/plain": [
       "white    602\n",
       "grey      77\n",
       "Name: greywage, dtype: int64"
      ]
     },
     "execution_count": 15,
     "metadata": {},
     "output_type": "execute_result"
    }
   ],
   "source": [
    "train['greywage'].value_counts()"
   ]
  },
  {
   "cell_type": "code",
   "execution_count": 16,
   "metadata": {},
   "outputs": [],
   "source": [
    "train['greywage'] = train['greywage'].fillna('white')"
   ]
  },
  {
   "cell_type": "code",
   "execution_count": 17,
   "metadata": {},
   "outputs": [
    {
     "data": {
      "text/plain": [
       "bus     415\n",
       "car     189\n",
       "foot     74\n",
       "Name: way, dtype: int64"
      ]
     },
     "execution_count": 17,
     "metadata": {},
     "output_type": "execute_result"
    }
   ],
   "source": [
    "train['way'].value_counts()"
   ]
  },
  {
   "cell_type": "code",
   "execution_count": 18,
   "metadata": {},
   "outputs": [],
   "source": [
    "train['way'] = train['way'].fillna('bus')"
   ]
  },
  {
   "cell_type": "code",
   "execution_count": 19,
   "metadata": {},
   "outputs": [
    {
     "data": {
      "text/plain": [
       "5.7     103\n",
       "4.1      94\n",
       "4.9      93\n",
       "6.4      77\n",
       "7.2      76\n",
       "8.0      55\n",
       "3.3      51\n",
       "2.6      44\n",
       "8.7      28\n",
       "9.5      17\n",
       "1.8      15\n",
       "10.0      7\n",
       "1.0       6\n",
       "Name: selfcontrol, dtype: int64"
      ]
     },
     "execution_count": 19,
     "metadata": {},
     "output_type": "execute_result"
    }
   ],
   "source": [
    "train['selfcontrol'].value_counts()"
   ]
  },
  {
   "cell_type": "code",
   "execution_count": 20,
   "metadata": {},
   "outputs": [],
   "source": [
    "train['selfcontrol'] = train['selfcontrol'].fillna(5.7)"
   ]
  },
  {
   "cell_type": "code",
   "execution_count": 21,
   "metadata": {},
   "outputs": [
    {
     "name": "stdout",
     "output_type": "stream",
     "text": [
      "<class 'pandas.core.frame.DataFrame'>\n",
      "Int64Index: 699 entries, 1 to 699\n",
      "Data columns (total 16 columns):\n",
      " #   Column        Non-Null Count  Dtype  \n",
      "---  ------        --------------  -----  \n",
      " 0   stag          699 non-null    float64\n",
      " 1   event         699 non-null    int64  \n",
      " 2   gender        699 non-null    object \n",
      " 3   age           699 non-null    float64\n",
      " 4   industry      699 non-null    object \n",
      " 5   profession    699 non-null    object \n",
      " 6   traffic       699 non-null    object \n",
      " 7   coach         699 non-null    object \n",
      " 8   head_gender   699 non-null    object \n",
      " 9   greywage      699 non-null    object \n",
      " 10  way           699 non-null    object \n",
      " 11  extraversion  699 non-null    float64\n",
      " 12  independ      699 non-null    float64\n",
      " 13  selfcontrol   699 non-null    float64\n",
      " 14  anxiety       699 non-null    float64\n",
      " 15  novator       699 non-null    float64\n",
      "dtypes: float64(7), int64(1), object(8)\n",
      "memory usage: 92.8+ KB\n"
     ]
    }
   ],
   "source": [
    "train.info()"
   ]
  },
  {
   "cell_type": "markdown",
   "metadata": {},
   "source": [
    "### test 결측치 채우기(제일 빈도수 많은 값으로)"
   ]
  },
  {
   "cell_type": "code",
   "execution_count": 22,
   "metadata": {},
   "outputs": [
    {
     "name": "stdout",
     "output_type": "stream",
     "text": [
      "<class 'pandas.core.frame.DataFrame'>\n",
      "Int64Index: 430 entries, 700 to 1129\n",
      "Data columns (total 15 columns):\n",
      " #   Column        Non-Null Count  Dtype  \n",
      "---  ------        --------------  -----  \n",
      " 0   stag          430 non-null    float64\n",
      " 1   gender        430 non-null    object \n",
      " 2   age           430 non-null    float64\n",
      " 3   industry      430 non-null    object \n",
      " 4   profession    430 non-null    object \n",
      " 5   traffic       430 non-null    object \n",
      " 6   coach         430 non-null    object \n",
      " 7   head_gender   360 non-null    object \n",
      " 8   greywage      430 non-null    object \n",
      " 9   way           430 non-null    object \n",
      " 10  extraversion  430 non-null    float64\n",
      " 11  independ      430 non-null    float64\n",
      " 12  selfcontrol   385 non-null    float64\n",
      " 13  anxiety       430 non-null    float64\n",
      " 14  novator       430 non-null    float64\n",
      "dtypes: float64(7), object(8)\n",
      "memory usage: 53.8+ KB\n"
     ]
    }
   ],
   "source": [
    "test.info()"
   ]
  },
  {
   "cell_type": "code",
   "execution_count": 23,
   "metadata": {},
   "outputs": [
    {
     "data": {
      "text/plain": [
       "6.4     63\n",
       "4.1     51\n",
       "7.2     45\n",
       "5.7     43\n",
       "4.9     39\n",
       "3.3     34\n",
       "8.0     28\n",
       "8.7     27\n",
       "2.6     26\n",
       "9.5     12\n",
       "1.8      9\n",
       "10.0     5\n",
       "1.0      3\n",
       "Name: selfcontrol, dtype: int64"
      ]
     },
     "execution_count": 23,
     "metadata": {},
     "output_type": "execute_result"
    }
   ],
   "source": [
    "test['selfcontrol'].value_counts()"
   ]
  },
  {
   "cell_type": "code",
   "execution_count": 24,
   "metadata": {},
   "outputs": [],
   "source": [
    "test['selfcontrol'] = test['selfcontrol'].fillna(6.4)"
   ]
  },
  {
   "cell_type": "markdown",
   "metadata": {},
   "source": [
    "#### head_gender 일단 제일 많은 값으로 채워넣기"
   ]
  },
  {
   "cell_type": "code",
   "execution_count": 25,
   "metadata": {},
   "outputs": [
    {
     "data": {
      "text/plain": [
       "m    205\n",
       "f    155\n",
       "Name: head_gender, dtype: int64"
      ]
     },
     "execution_count": 25,
     "metadata": {},
     "output_type": "execute_result"
    }
   ],
   "source": [
    "test['head_gender'].value_counts()"
   ]
  },
  {
   "cell_type": "code",
   "execution_count": 26,
   "metadata": {},
   "outputs": [],
   "source": [
    "test['head_gender'] = test['head_gender'].fillna('m')"
   ]
  },
  {
   "cell_type": "code",
   "execution_count": 27,
   "metadata": {},
   "outputs": [
    {
     "name": "stdout",
     "output_type": "stream",
     "text": [
      "<class 'pandas.core.frame.DataFrame'>\n",
      "Int64Index: 430 entries, 700 to 1129\n",
      "Data columns (total 15 columns):\n",
      " #   Column        Non-Null Count  Dtype  \n",
      "---  ------        --------------  -----  \n",
      " 0   stag          430 non-null    float64\n",
      " 1   gender        430 non-null    object \n",
      " 2   age           430 non-null    float64\n",
      " 3   industry      430 non-null    object \n",
      " 4   profession    430 non-null    object \n",
      " 5   traffic       430 non-null    object \n",
      " 6   coach         430 non-null    object \n",
      " 7   head_gender   430 non-null    object \n",
      " 8   greywage      430 non-null    object \n",
      " 9   way           430 non-null    object \n",
      " 10  extraversion  430 non-null    float64\n",
      " 11  independ      430 non-null    float64\n",
      " 12  selfcontrol   430 non-null    float64\n",
      " 13  anxiety       430 non-null    float64\n",
      " 14  novator       430 non-null    float64\n",
      "dtypes: float64(7), object(8)\n",
      "memory usage: 53.8+ KB\n"
     ]
    }
   ],
   "source": [
    "test.info()"
   ]
  },
  {
   "cell_type": "markdown",
   "metadata": {},
   "source": [
    "### train 데이터 탐색"
   ]
  },
  {
   "cell_type": "code",
   "execution_count": 28,
   "metadata": {},
   "outputs": [
    {
     "data": {
      "text/html": [
       "<div>\n",
       "<style scoped>\n",
       "    .dataframe tbody tr th:only-of-type {\n",
       "        vertical-align: middle;\n",
       "    }\n",
       "\n",
       "    .dataframe tbody tr th {\n",
       "        vertical-align: top;\n",
       "    }\n",
       "\n",
       "    .dataframe thead th {\n",
       "        text-align: right;\n",
       "    }\n",
       "</style>\n",
       "<table border=\"1\" class=\"dataframe\">\n",
       "  <thead>\n",
       "    <tr style=\"text-align: right;\">\n",
       "      <th></th>\n",
       "      <th></th>\n",
       "      <th>stag</th>\n",
       "    </tr>\n",
       "    <tr>\n",
       "      <th>greywage</th>\n",
       "      <th>event</th>\n",
       "      <th></th>\n",
       "    </tr>\n",
       "  </thead>\n",
       "  <tbody>\n",
       "    <tr>\n",
       "      <th rowspan=\"2\" valign=\"top\">grey</th>\n",
       "      <th>0</th>\n",
       "      <td>24</td>\n",
       "    </tr>\n",
       "    <tr>\n",
       "      <th>1</th>\n",
       "      <td>53</td>\n",
       "    </tr>\n",
       "    <tr>\n",
       "      <th rowspan=\"2\" valign=\"top\">white</th>\n",
       "      <th>0</th>\n",
       "      <td>221</td>\n",
       "    </tr>\n",
       "    <tr>\n",
       "      <th>1</th>\n",
       "      <td>401</td>\n",
       "    </tr>\n",
       "  </tbody>\n",
       "</table>\n",
       "</div>"
      ],
      "text/plain": [
       "                stag\n",
       "greywage event      \n",
       "grey     0        24\n",
       "         1        53\n",
       "white    0       221\n",
       "         1       401"
      ]
     },
     "execution_count": 28,
     "metadata": {},
     "output_type": "execute_result"
    }
   ],
   "source": [
    "train_greywage = train[['greywage','event','stag']].groupby(['greywage','event']).count()\n",
    "train_greywage"
   ]
  },
  {
   "cell_type": "markdown",
   "metadata": {},
   "source": [
    "- greywage 가 white인 사람이 많이 이직함"
   ]
  },
  {
   "cell_type": "code",
   "execution_count": 29,
   "metadata": {},
   "outputs": [
    {
     "data": {
      "text/html": [
       "<div>\n",
       "<style scoped>\n",
       "    .dataframe tbody tr th:only-of-type {\n",
       "        vertical-align: middle;\n",
       "    }\n",
       "\n",
       "    .dataframe tbody tr th {\n",
       "        vertical-align: top;\n",
       "    }\n",
       "\n",
       "    .dataframe thead th {\n",
       "        text-align: right;\n",
       "    }\n",
       "</style>\n",
       "<table border=\"1\" class=\"dataframe\">\n",
       "  <thead>\n",
       "    <tr style=\"text-align: right;\">\n",
       "      <th></th>\n",
       "      <th></th>\n",
       "      <th>stag</th>\n",
       "    </tr>\n",
       "    <tr>\n",
       "      <th>way</th>\n",
       "      <th>event</th>\n",
       "      <th></th>\n",
       "    </tr>\n",
       "  </thead>\n",
       "  <tbody>\n",
       "    <tr>\n",
       "      <th rowspan=\"2\" valign=\"top\">bus</th>\n",
       "      <th>0</th>\n",
       "      <td>144</td>\n",
       "    </tr>\n",
       "    <tr>\n",
       "      <th>1</th>\n",
       "      <td>292</td>\n",
       "    </tr>\n",
       "    <tr>\n",
       "      <th rowspan=\"2\" valign=\"top\">car</th>\n",
       "      <th>0</th>\n",
       "      <td>61</td>\n",
       "    </tr>\n",
       "    <tr>\n",
       "      <th>1</th>\n",
       "      <td>128</td>\n",
       "    </tr>\n",
       "    <tr>\n",
       "      <th rowspan=\"2\" valign=\"top\">foot</th>\n",
       "      <th>0</th>\n",
       "      <td>40</td>\n",
       "    </tr>\n",
       "    <tr>\n",
       "      <th>1</th>\n",
       "      <td>34</td>\n",
       "    </tr>\n",
       "  </tbody>\n",
       "</table>\n",
       "</div>"
      ],
      "text/plain": [
       "            stag\n",
       "way  event      \n",
       "bus  0       144\n",
       "     1       292\n",
       "car  0        61\n",
       "     1       128\n",
       "foot 0        40\n",
       "     1        34"
      ]
     },
     "execution_count": 29,
     "metadata": {},
     "output_type": "execute_result"
    }
   ],
   "source": [
    "train_way = train[['way','event','stag']].groupby(['way','event']).count()\n",
    "train_way"
   ]
  },
  {
   "cell_type": "markdown",
   "metadata": {},
   "source": [
    "- way가 bus, car 인 사람이 많이 이직함"
   ]
  },
  {
   "cell_type": "code",
   "execution_count": 30,
   "metadata": {},
   "outputs": [
    {
     "data": {
      "text/html": [
       "<div>\n",
       "<style scoped>\n",
       "    .dataframe tbody tr th:only-of-type {\n",
       "        vertical-align: middle;\n",
       "    }\n",
       "\n",
       "    .dataframe tbody tr th {\n",
       "        vertical-align: top;\n",
       "    }\n",
       "\n",
       "    .dataframe thead th {\n",
       "        text-align: right;\n",
       "    }\n",
       "</style>\n",
       "<table border=\"1\" class=\"dataframe\">\n",
       "  <thead>\n",
       "    <tr style=\"text-align: right;\">\n",
       "      <th></th>\n",
       "      <th></th>\n",
       "      <th>stag</th>\n",
       "    </tr>\n",
       "    <tr>\n",
       "      <th>head_gender</th>\n",
       "      <th>event</th>\n",
       "      <th></th>\n",
       "    </tr>\n",
       "  </thead>\n",
       "  <tbody>\n",
       "    <tr>\n",
       "      <th rowspan=\"2\" valign=\"top\">f</th>\n",
       "      <th>0</th>\n",
       "      <td>148</td>\n",
       "    </tr>\n",
       "    <tr>\n",
       "      <th>1</th>\n",
       "      <td>219</td>\n",
       "    </tr>\n",
       "    <tr>\n",
       "      <th rowspan=\"2\" valign=\"top\">m</th>\n",
       "      <th>0</th>\n",
       "      <td>97</td>\n",
       "    </tr>\n",
       "    <tr>\n",
       "      <th>1</th>\n",
       "      <td>235</td>\n",
       "    </tr>\n",
       "  </tbody>\n",
       "</table>\n",
       "</div>"
      ],
      "text/plain": [
       "                   stag\n",
       "head_gender event      \n",
       "f           0       148\n",
       "            1       219\n",
       "m           0        97\n",
       "            1       235"
      ]
     },
     "execution_count": 30,
     "metadata": {},
     "output_type": "execute_result"
    }
   ],
   "source": [
    "train_head_gender = train[['head_gender','event','stag']].groupby(['head_gender','event']).count()\n",
    "train_head_gender"
   ]
  },
  {
   "cell_type": "code",
   "execution_count": 31,
   "metadata": {},
   "outputs": [
    {
     "data": {
      "text/plain": [
       "<AxesSubplot:xlabel='gender', ylabel='count'>"
      ]
     },
     "execution_count": 31,
     "metadata": {},
     "output_type": "execute_result"
    },
    {
     "data": {
      "image/png": "[encoded data removed]",
      "text/plain": [
       "<Figure size 432x288 with 1 Axes>"
      ]
     },
     "metadata": {
      "needs_background": "light"
     },
     "output_type": "display_data"
    }
   ],
   "source": [
    "sns.countplot(data=train, x='gender', hue = 'event')"
   ]
  },
  {
   "cell_type": "code",
   "execution_count": 32,
   "metadata": {},
   "outputs": [
    {
     "data": {
      "text/plain": [
       "<AxesSubplot:xlabel='head_gender', ylabel='count'>"
      ]
     },
     "execution_count": 32,
     "metadata": {},
     "output_type": "execute_result"
    },
    {
     "data": {
      "image/png": "[encoded data removed]",
      "text/plain": [
       "<Figure size 432x288 with 1 Axes>"
      ]
     },
     "metadata": {
      "needs_background": "light"
     },
     "output_type": "display_data"
    }
   ],
   "source": [
    "sns.countplot(data=train, x='head_gender', hue = 'event')"
   ]
  },
  {
   "cell_type": "code",
   "execution_count": 33,
   "metadata": {},
   "outputs": [
    {
     "data": {
      "text/plain": [
       "<AxesSubplot:xlabel='industry', ylabel='count'>"
      ]
     },
     "execution_count": 33,
     "metadata": {},
     "output_type": "execute_result"
    },
    {
     "data": {
      "image/png": "[encoded data removed]",
      "text/plain": [
       "<Figure size 432x288 with 1 Axes>"
      ]
     },
     "metadata": {
      "needs_background": "light"
     },
     "output_type": "display_data"
    }
   ],
   "source": [
    "sns.countplot(data=train, x='industry', hue = 'event')"
   ]
  },
  {
   "cell_type": "code",
   "execution_count": 34,
   "metadata": {},
   "outputs": [
    {
     "data": {
      "text/plain": [
       "<AxesSubplot:xlabel='way', ylabel='count'>"
      ]
     },
     "execution_count": 34,
     "metadata": {},
     "output_type": "execute_result"
    },
    {
     "data": {
      "image/png": "[encoded data removed]",
      "text/plain": [
       "<Figure size 432x288 with 1 Axes>"
      ]
     },
     "metadata": {
      "needs_background": "light"
     },
     "output_type": "display_data"
    }
   ],
   "source": [
    "sns.countplot(data=train, x='way', hue = 'event')"
   ]
  },
  {
   "cell_type": "code",
   "execution_count": 35,
   "metadata": {},
   "outputs": [
    {
     "data": {
      "text/plain": [
       "<AxesSubplot:xlabel='greywage', ylabel='count'>"
      ]
     },
     "execution_count": 35,
     "metadata": {},
     "output_type": "execute_result"
    },
    {
     "data": {
      "image/png": "[encoded data removed]",
      "text/plain": [
       "<Figure size 432x288 with 1 Axes>"
      ]
     },
     "metadata": {
      "needs_background": "light"
     },
     "output_type": "display_data"
    }
   ],
   "source": [
    "sns.countplot(data=train, x='greywage', hue = 'event')"
   ]
  },
  {
   "cell_type": "code",
   "execution_count": 36,
   "metadata": {},
   "outputs": [
    {
     "data": {
      "text/plain": [
       "<AxesSubplot:xlabel='coach', ylabel='count'>"
      ]
     },
     "execution_count": 36,
     "metadata": {},
     "output_type": "execute_result"
    },
    {
     "data": {
      "image/png": "[encoded data removed]",
      "text/plain": [
       "<Figure size 432x288 with 1 Axes>"
      ]
     },
     "metadata": {
      "needs_background": "light"
     },
     "output_type": "display_data"
    }
   ],
   "source": [
    "sns.countplot(data=train, x='coach', hue = 'event')"
   ]
  },
  {
   "cell_type": "code",
   "execution_count": 37,
   "metadata": {},
   "outputs": [
    {
     "data": {
      "text/plain": [
       "<AxesSubplot:xlabel='extraversion', ylabel='count'>"
      ]
     },
     "execution_count": 37,
     "metadata": {},
     "output_type": "execute_result"
    },
    {
     "data": {
      "image/png": "[encoded data removed]",
      "text/plain": [
       "<Figure size 432x288 with 1 Axes>"
      ]
     },
     "metadata": {
      "needs_background": "light"
     },
     "output_type": "display_data"
    }
   ],
   "source": [
    "sns.countplot(data=train, x='extraversion', hue = 'event')"
   ]
  },
  {
   "cell_type": "code",
   "execution_count": 38,
   "metadata": {},
   "outputs": [
    {
     "data": {
      "text/plain": [
       "<AxesSubplot:xlabel='independ', ylabel='count'>"
      ]
     },
     "execution_count": 38,
     "metadata": {},
     "output_type": "execute_result"
    },
    {
     "data": {
      "image/png": "[encoded data removed]",
      "text/plain": [
       "<Figure size 432x288 with 1 Axes>"
      ]
     },
     "metadata": {
      "needs_background": "light"
     },
     "output_type": "display_data"
    }
   ],
   "source": [
    "sns.countplot(data=train, x='independ', hue = 'event')"
   ]
  },
  {
   "cell_type": "code",
   "execution_count": 39,
   "metadata": {},
   "outputs": [
    {
     "data": {
      "text/plain": [
       "<AxesSubplot:xlabel='selfcontrol', ylabel='count'>"
      ]
     },
     "execution_count": 39,
     "metadata": {},
     "output_type": "execute_result"
    },
    {
     "data": {
      "image/png": "[encoded data removed]",
      "text/plain": [
       "<Figure size 432x288 with 1 Axes>"
      ]
     },
     "metadata": {
      "needs_background": "light"
     },
     "output_type": "display_data"
    }
   ],
   "source": [
    "sns.countplot(data=train, x='selfcontrol', hue = 'event')"
   ]
  },
  {
   "cell_type": "code",
   "execution_count": 40,
   "metadata": {},
   "outputs": [
    {
     "data": {
      "text/plain": [
       "<AxesSubplot:xlabel='anxiety', ylabel='count'>"
      ]
     },
     "execution_count": 40,
     "metadata": {},
     "output_type": "execute_result"
    },
    {
     "data": {
      "image/png": "[encoded data removed]",
      "text/plain": [
       "<Figure size 432x288 with 1 Axes>"
      ]
     },
     "metadata": {
      "needs_background": "light"
     },
     "output_type": "display_data"
    }
   ],
   "source": [
    "sns.countplot(data=train, x='anxiety', hue = 'event')"
   ]
  },
  {
   "cell_type": "code",
   "execution_count": 41,
   "metadata": {},
   "outputs": [
    {
     "data": {
      "text/plain": [
       "<AxesSubplot:xlabel='novator', ylabel='count'>"
      ]
     },
     "execution_count": 41,
     "metadata": {},
     "output_type": "execute_result"
    },
    {
     "data": {
      "image/png": "[encoded data removed]",
      "text/plain": [
       "<Figure size 432x288 with 1 Axes>"
      ]
     },
     "metadata": {
      "needs_background": "light"
     },
     "output_type": "display_data"
    }
   ],
   "source": [
    "sns.countplot(data=train, x='novator', hue = 'event')"
   ]
  },
  {
   "cell_type": "markdown",
   "metadata": {},
   "source": [
    "### 인코딩"
   ]
  },
  {
   "cell_type": "code",
   "execution_count": 42,
   "metadata": {},
   "outputs": [
    {
     "name": "stdout",
     "output_type": "stream",
     "text": [
      "<class 'pandas.core.frame.DataFrame'>\n",
      "Int64Index: 699 entries, 1 to 699\n",
      "Data columns (total 16 columns):\n",
      " #   Column        Non-Null Count  Dtype  \n",
      "---  ------        --------------  -----  \n",
      " 0   stag          699 non-null    float64\n",
      " 1   event         699 non-null    int64  \n",
      " 2   gender        699 non-null    object \n",
      " 3   age           699 non-null    float64\n",
      " 4   industry      699 non-null    object \n",
      " 5   profession    699 non-null    object \n",
      " 6   traffic       699 non-null    object \n",
      " 7   coach         699 non-null    object \n",
      " 8   head_gender   699 non-null    object \n",
      " 9   greywage      699 non-null    object \n",
      " 10  way           699 non-null    object \n",
      " 11  extraversion  699 non-null    float64\n",
      " 12  independ      699 non-null    float64\n",
      " 13  selfcontrol   699 non-null    float64\n",
      " 14  anxiety       699 non-null    float64\n",
      " 15  novator       699 non-null    float64\n",
      "dtypes: float64(7), int64(1), object(8)\n",
      "memory usage: 112.8+ KB\n"
     ]
    }
   ],
   "source": [
    "train.info()"
   ]
  },
  {
   "cell_type": "code",
   "execution_count": 43,
   "metadata": {},
   "outputs": [],
   "source": [
    "y_train = train['event']\n",
    "X_train = train.drop('event', axis = 1)\n",
    "X_test = test"
   ]
  },
  {
   "cell_type": "code",
   "execution_count": 44,
   "metadata": {},
   "outputs": [
    {
     "data": {
      "text/plain": [
       "(699, 15)"
      ]
     },
     "execution_count": 44,
     "metadata": {},
     "output_type": "execute_result"
    }
   ],
   "source": [
    "X_train.shape"
   ]
  },
  {
   "cell_type": "code",
   "execution_count": 45,
   "metadata": {},
   "outputs": [
    {
     "data": {
      "text/plain": [
       "(699,)"
      ]
     },
     "execution_count": 45,
     "metadata": {},
     "output_type": "execute_result"
    }
   ],
   "source": [
    "y_train.shape"
   ]
  },
  {
   "cell_type": "code",
   "execution_count": 46,
   "metadata": {},
   "outputs": [],
   "source": [
    "cat_feature = ['gender', 'industry', 'profession', 'traffic', 'coach', 'head_gender', 'greywage', 'way']"
   ]
  },
  {
   "cell_type": "code",
   "execution_count": 47,
   "metadata": {},
   "outputs": [],
   "source": [
    "for i in cat_feature:\n",
    "    dummy = pd.get_dummies(train[i], prefix = i)\n",
    "    X_train = pd.concat([X_train, dummy], axis = 1)\n",
    "    X_train.drop(i, axis=1, inplace = True)"
   ]
  },
  {
   "cell_type": "code",
   "execution_count": 48,
   "metadata": {},
   "outputs": [],
   "source": [
    "for i in cat_feature:\n",
    "    dummy = pd.get_dummies(test[i], prefix = i)\n",
    "    X_test = pd.concat([X_test, dummy], axis = 1)\n",
    "    X_test.drop(i, axis=1, inplace = True)"
   ]
  },
  {
   "cell_type": "code",
   "execution_count": 49,
   "metadata": {},
   "outputs": [
    {
     "data": {
      "text/plain": [
       "pandas.core.indexes.base.Index"
      ]
     },
     "execution_count": 49,
     "metadata": {},
     "output_type": "execute_result"
    }
   ],
   "source": [
    "type(X_train.columns)"
   ]
  },
  {
   "cell_type": "code",
   "execution_count": 50,
   "metadata": {},
   "outputs": [
    {
     "name": "stdout",
     "output_type": "stream",
     "text": [
      "<class 'pandas.core.frame.DataFrame'>\n",
      "Int64Index: 699 entries, 1 to 699\n",
      "Data columns (total 58 columns):\n",
      " #   Column                          Non-Null Count  Dtype  \n",
      "---  ------                          --------------  -----  \n",
      " 0   stag                            699 non-null    float64\n",
      " 1   age                             699 non-null    float64\n",
      " 2   extraversion                    699 non-null    float64\n",
      " 3   independ                        699 non-null    float64\n",
      " 4   selfcontrol                     699 non-null    float64\n",
      " 5   anxiety                         699 non-null    float64\n",
      " 6   novator                         699 non-null    float64\n",
      " 7   gender_f                        699 non-null    uint8  \n",
      " 8   gender_m                        699 non-null    uint8  \n",
      " 9   industry_ HoReCa                699 non-null    uint8  \n",
      " 10  industry_Agriculture            699 non-null    uint8  \n",
      " 11  industry_Banks                  699 non-null    uint8  \n",
      " 12  industry_Building               699 non-null    uint8  \n",
      " 13  industry_Consult                699 non-null    uint8  \n",
      " 14  industry_IT                     699 non-null    uint8  \n",
      " 15  industry_Mining                 699 non-null    uint8  \n",
      " 16  industry_Pharma                 699 non-null    uint8  \n",
      " 17  industry_PowerGeneration        699 non-null    uint8  \n",
      " 18  industry_RealEstate             699 non-null    uint8  \n",
      " 19  industry_Retail                 699 non-null    uint8  \n",
      " 20  industry_State                  699 non-null    uint8  \n",
      " 21  industry_Telecom                699 non-null    uint8  \n",
      " 22  industry_etc                    699 non-null    uint8  \n",
      " 23  industry_manufacture            699 non-null    uint8  \n",
      " 24  industry_transport              699 non-null    uint8  \n",
      " 25  profession_Accounting           699 non-null    uint8  \n",
      " 26  profession_BusinessDevelopment  699 non-null    uint8  \n",
      " 27  profession_Commercial           699 non-null    uint8  \n",
      " 28  profession_Consult              699 non-null    uint8  \n",
      " 29  profession_Engineer             699 non-null    uint8  \n",
      " 30  profession_Finan?               699 non-null    uint8  \n",
      " 31  profession_HR                   699 non-null    uint8  \n",
      " 32  profession_IT                   699 non-null    uint8  \n",
      " 33  profession_Law                  699 non-null    uint8  \n",
      " 34  profession_Marketing            699 non-null    uint8  \n",
      " 35  profession_PR                   699 non-null    uint8  \n",
      " 36  profession_Sales                699 non-null    uint8  \n",
      " 37  profession_Teaching             699 non-null    uint8  \n",
      " 38  profession_etc                  699 non-null    uint8  \n",
      " 39  profession_manage               699 non-null    uint8  \n",
      " 40  traffic_KA                      699 non-null    uint8  \n",
      " 41  traffic_advert                  699 non-null    uint8  \n",
      " 42  traffic_empjs                   699 non-null    uint8  \n",
      " 43  traffic_friends                 699 non-null    uint8  \n",
      " 44  traffic_rabrecNErab             699 non-null    uint8  \n",
      " 45  traffic_recNErab                699 non-null    uint8  \n",
      " 46  traffic_referal                 699 non-null    uint8  \n",
      " 47  traffic_youjs                   699 non-null    uint8  \n",
      " 48  coach_my head                   699 non-null    uint8  \n",
      " 49  coach_no                        699 non-null    uint8  \n",
      " 50  coach_yes                       699 non-null    uint8  \n",
      " 51  head_gender_f                   699 non-null    uint8  \n",
      " 52  head_gender_m                   699 non-null    uint8  \n",
      " 53  greywage_grey                   699 non-null    uint8  \n",
      " 54  greywage_white                  699 non-null    uint8  \n",
      " 55  way_bus                         699 non-null    uint8  \n",
      " 56  way_car                         699 non-null    uint8  \n",
      " 57  way_foot                        699 non-null    uint8  \n",
      "dtypes: float64(7), uint8(51)\n",
      "memory usage: 98.5 KB\n"
     ]
    }
   ],
   "source": [
    "X_train.info()"
   ]
  },
  {
   "cell_type": "code",
   "execution_count": 51,
   "metadata": {},
   "outputs": [
    {
     "data": {
      "text/plain": [
       "set()"
      ]
     },
     "execution_count": 51,
     "metadata": {},
     "output_type": "execute_result"
    }
   ],
   "source": [
    "set(X_train.columns) - set(X_test.columns)"
   ]
  },
  {
   "cell_type": "code",
   "execution_count": 52,
   "metadata": {},
   "outputs": [],
   "source": [
    "knn_model = KNeighborsClassifier(n_neighbors = 10)"
   ]
  },
  {
   "cell_type": "code",
   "execution_count": 53,
   "metadata": {},
   "outputs": [
    {
     "data": {
      "text/plain": [
       "array([0.57142857, 0.54285714, 0.64285714, 0.64285714, 0.58571429,\n",
       "       0.57142857, 0.64285714, 0.48571429, 0.58571429, 0.60869565])"
      ]
     },
     "execution_count": 53,
     "metadata": {},
     "output_type": "execute_result"
    }
   ],
   "source": [
    "result = cross_val_score(knn_model,\n",
    "                        X_train,\n",
    "                        y_train,\n",
    "                        cv = 10)\n",
    "result"
   ]
  },
  {
   "cell_type": "code",
   "execution_count": 54,
   "metadata": {},
   "outputs": [
    {
     "data": {
      "text/plain": [
       "0.5880124223602484"
      ]
     },
     "execution_count": 54,
     "metadata": {},
     "output_type": "execute_result"
    }
   ],
   "source": [
    "result.mean()"
   ]
  },
  {
   "cell_type": "code",
   "execution_count": 55,
   "metadata": {},
   "outputs": [],
   "source": [
    "result = pd.read_csv('smhrd111/submission.csv')"
   ]
  },
  {
   "cell_type": "code",
   "execution_count": 56,
   "metadata": {},
   "outputs": [],
   "source": [
    "knn_model.fit(X_train, y_train)\n",
    "pre = knn_model.predict(X_test)"
   ]
  },
  {
   "cell_type": "code",
   "execution_count": 57,
   "metadata": {},
   "outputs": [],
   "source": [
    "result['event'] = pre"
   ]
  },
  {
   "cell_type": "code",
   "execution_count": 58,
   "metadata": {},
   "outputs": [],
   "source": [
    "result.to_csv('smhrd111/submission.csv', index = False)"
   ]
  },
  {
   "cell_type": "markdown",
   "metadata": {},
   "source": [
    "### 트리모델"
   ]
  },
  {
   "cell_type": "code",
   "execution_count": 59,
   "metadata": {},
   "outputs": [],
   "source": [
    "tree_model = DecisionTreeClassifier(max_depth = 10)"
   ]
  },
  {
   "cell_type": "code",
   "execution_count": 60,
   "metadata": {},
   "outputs": [
    {
     "data": {
      "text/plain": [
       "array([0.62857143, 0.57142857, 0.58571429, 0.61428571, 0.68571429,\n",
       "       0.58571429, 0.64285714, 0.54285714, 0.51428571, 0.57971014])"
      ]
     },
     "execution_count": 60,
     "metadata": {},
     "output_type": "execute_result"
    }
   ],
   "source": [
    "result = cross_val_score(tree_model,\n",
    "                        X_train,\n",
    "                        y_train,\n",
    "                        cv = 10)\n",
    "result"
   ]
  },
  {
   "cell_type": "code",
   "execution_count": 61,
   "metadata": {},
   "outputs": [
    {
     "data": {
      "text/plain": [
       "0.5951138716356108"
      ]
     },
     "execution_count": 61,
     "metadata": {},
     "output_type": "execute_result"
    }
   ],
   "source": [
    "result.mean()"
   ]
  },
  {
   "cell_type": "code",
   "execution_count": null,
   "metadata": {},
   "outputs": [],
   "source": []
  }
 ],
 "metadata": {
  "kernelspec": {
   "display_name": "Python 3",
   "language": "python",
   "name": "python3"
  },
  "language_info": {
   "codemirror_mode": {
    "name": "ipython",
    "version": 3
   },
   "file_extension": ".py",
   "mimetype": "text/x-python",
   "name": "python",
   "nbconvert_exporter": "python",
   "pygments_lexer": "ipython3",
   "version": "3.8.5"
  }
 },
 "nbformat": 4,
 "nbformat_minor": 4
}
