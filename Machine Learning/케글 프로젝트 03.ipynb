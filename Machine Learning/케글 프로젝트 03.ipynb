{
 "cells": [
  {
   "cell_type": "code",
   "execution_count": 147,
   "metadata": {},
   "outputs": [],
   "source": [
    "import pandas as pd\n",
    "import matplotlib.pyplot as plt  # 그래프 그리는 라이브러리\n",
    "from sklearn.model_selection import train_test_split\n",
    "from sklearn import metrics  # 평가를 위한 라이브러리\n",
    "from sklearn.tree import DecisionTreeClassifier\n",
    "\n",
    "import numpy as np\n",
    "import seaborn as sns  # 시각화 라이브러리\n",
    "\n",
    "from sklearn.neighbors import KNeighborsClassifier\n",
    "from sklearn.model_selection import cross_val_score\n",
    "\n",
    "from sklearn.ensemble import VotingClassifier  # 보팅 분류기, 앙상블을 결합시켜주는 역할\n",
    "from sklearn.ensemble import RandomForestClassifier"
   ]
  },
  {
   "cell_type": "code",
   "execution_count": 122,
   "metadata": {},
   "outputs": [],
   "source": [
    "train = pd.read_csv('smhrd111/train.csv', index_col = 'ID')\n",
    "test = pd.read_csv('smhrd111/test.csv', index_col = 'ID')"
   ]
  },
  {
   "cell_type": "code",
   "execution_count": 123,
   "metadata": {},
   "outputs": [
    {
     "data": {
      "text/html": [
       "<div>\n",
       "<style scoped>\n",
       "    .dataframe tbody tr th:only-of-type {\n",
       "        vertical-align: middle;\n",
       "    }\n",
       "\n",
       "    .dataframe tbody tr th {\n",
       "        vertical-align: top;\n",
       "    }\n",
       "\n",
       "    .dataframe thead th {\n",
       "        text-align: right;\n",
       "    }\n",
       "</style>\n",
       "<table border=\"1\" class=\"dataframe\">\n",
       "  <thead>\n",
       "    <tr style=\"text-align: right;\">\n",
       "      <th></th>\n",
       "      <th>stag</th>\n",
       "      <th>event</th>\n",
       "      <th>age</th>\n",
       "      <th>extraversion</th>\n",
       "      <th>independ</th>\n",
       "      <th>selfcontrol</th>\n",
       "      <th>anxiety</th>\n",
       "      <th>novator</th>\n",
       "    </tr>\n",
       "  </thead>\n",
       "  <tbody>\n",
       "    <tr>\n",
       "      <th>count</th>\n",
       "      <td>516.000000</td>\n",
       "      <td>699.000000</td>\n",
       "      <td>699.000000</td>\n",
       "      <td>699.000000</td>\n",
       "      <td>699.000000</td>\n",
       "      <td>666.000000</td>\n",
       "      <td>699.000000</td>\n",
       "      <td>699.000000</td>\n",
       "    </tr>\n",
       "    <tr>\n",
       "      <th>mean</th>\n",
       "      <td>36.844086</td>\n",
       "      <td>0.649499</td>\n",
       "      <td>30.470962</td>\n",
       "      <td>5.631187</td>\n",
       "      <td>5.550787</td>\n",
       "      <td>5.554054</td>\n",
       "      <td>5.584263</td>\n",
       "      <td>5.834907</td>\n",
       "    </tr>\n",
       "    <tr>\n",
       "      <th>std</th>\n",
       "      <td>34.352824</td>\n",
       "      <td>0.477468</td>\n",
       "      <td>6.736574</td>\n",
       "      <td>1.814112</td>\n",
       "      <td>1.727731</td>\n",
       "      <td>1.934978</td>\n",
       "      <td>1.728112</td>\n",
       "      <td>1.935977</td>\n",
       "    </tr>\n",
       "    <tr>\n",
       "      <th>min</th>\n",
       "      <td>0.492813</td>\n",
       "      <td>0.000000</td>\n",
       "      <td>18.000000</td>\n",
       "      <td>1.000000</td>\n",
       "      <td>1.000000</td>\n",
       "      <td>1.000000</td>\n",
       "      <td>1.700000</td>\n",
       "      <td>1.000000</td>\n",
       "    </tr>\n",
       "    <tr>\n",
       "      <th>25%</th>\n",
       "      <td>12.082136</td>\n",
       "      <td>0.000000</td>\n",
       "      <td>25.000000</td>\n",
       "      <td>4.600000</td>\n",
       "      <td>4.100000</td>\n",
       "      <td>4.100000</td>\n",
       "      <td>4.000000</td>\n",
       "      <td>4.400000</td>\n",
       "    </tr>\n",
       "    <tr>\n",
       "      <th>50%</th>\n",
       "      <td>25.544148</td>\n",
       "      <td>1.000000</td>\n",
       "      <td>29.000000</td>\n",
       "      <td>5.400000</td>\n",
       "      <td>5.500000</td>\n",
       "      <td>5.700000</td>\n",
       "      <td>5.600000</td>\n",
       "      <td>6.000000</td>\n",
       "    </tr>\n",
       "    <tr>\n",
       "      <th>75%</th>\n",
       "      <td>49.322382</td>\n",
       "      <td>1.000000</td>\n",
       "      <td>35.000000</td>\n",
       "      <td>7.000000</td>\n",
       "      <td>6.900000</td>\n",
       "      <td>7.200000</td>\n",
       "      <td>7.100000</td>\n",
       "      <td>7.500000</td>\n",
       "    </tr>\n",
       "    <tr>\n",
       "      <th>max</th>\n",
       "      <td>179.449692</td>\n",
       "      <td>1.000000</td>\n",
       "      <td>56.000000</td>\n",
       "      <td>10.000000</td>\n",
       "      <td>10.000000</td>\n",
       "      <td>10.000000</td>\n",
       "      <td>10.000000</td>\n",
       "      <td>10.000000</td>\n",
       "    </tr>\n",
       "  </tbody>\n",
       "</table>\n",
       "</div>"
      ],
      "text/plain": [
       "             stag       event         age  extraversion    independ  \\\n",
       "count  516.000000  699.000000  699.000000    699.000000  699.000000   \n",
       "mean    36.844086    0.649499   30.470962      5.631187    5.550787   \n",
       "std     34.352824    0.477468    6.736574      1.814112    1.727731   \n",
       "min      0.492813    0.000000   18.000000      1.000000    1.000000   \n",
       "25%     12.082136    0.000000   25.000000      4.600000    4.100000   \n",
       "50%     25.544148    1.000000   29.000000      5.400000    5.500000   \n",
       "75%     49.322382    1.000000   35.000000      7.000000    6.900000   \n",
       "max    179.449692    1.000000   56.000000     10.000000   10.000000   \n",
       "\n",
       "       selfcontrol     anxiety     novator  \n",
       "count   666.000000  699.000000  699.000000  \n",
       "mean      5.554054    5.584263    5.834907  \n",
       "std       1.934978    1.728112    1.935977  \n",
       "min       1.000000    1.700000    1.000000  \n",
       "25%       4.100000    4.000000    4.400000  \n",
       "50%       5.700000    5.600000    6.000000  \n",
       "75%       7.200000    7.100000    7.500000  \n",
       "max      10.000000   10.000000   10.000000  "
      ]
     },
     "execution_count": 123,
     "metadata": {},
     "output_type": "execute_result"
    }
   ],
   "source": [
    "train.describe()"
   ]
  },
  {
   "cell_type": "code",
   "execution_count": 124,
   "metadata": {},
   "outputs": [
    {
     "name": "stdout",
     "output_type": "stream",
     "text": [
      "<class 'pandas.core.frame.DataFrame'>\n",
      "Int64Index: 430 entries, 700 to 1129\n",
      "Data columns (total 15 columns):\n",
      " #   Column        Non-Null Count  Dtype  \n",
      "---  ------        --------------  -----  \n",
      " 0   stag          321 non-null    float64\n",
      " 1   gender        430 non-null    object \n",
      " 2   age           430 non-null    float64\n",
      " 3   industry      430 non-null    object \n",
      " 4   profession    430 non-null    object \n",
      " 5   traffic       430 non-null    object \n",
      " 6   coach         430 non-null    object \n",
      " 7   head_gender   360 non-null    object \n",
      " 8   greywage      430 non-null    object \n",
      " 9   way           430 non-null    object \n",
      " 10  extraversion  430 non-null    float64\n",
      " 11  independ      430 non-null    float64\n",
      " 12  selfcontrol   385 non-null    float64\n",
      " 13  anxiety       430 non-null    float64\n",
      " 14  novator       430 non-null    float64\n",
      "dtypes: float64(7), object(8)\n",
      "memory usage: 53.8+ KB\n"
     ]
    }
   ],
   "source": [
    "test.info()"
   ]
  },
  {
   "cell_type": "code",
   "execution_count": 125,
   "metadata": {},
   "outputs": [
    {
     "data": {
      "text/html": [
       "<div>\n",
       "<style scoped>\n",
       "    .dataframe tbody tr th:only-of-type {\n",
       "        vertical-align: middle;\n",
       "    }\n",
       "\n",
       "    .dataframe tbody tr th {\n",
       "        vertical-align: top;\n",
       "    }\n",
       "\n",
       "    .dataframe thead th {\n",
       "        text-align: right;\n",
       "    }\n",
       "</style>\n",
       "<table border=\"1\" class=\"dataframe\">\n",
       "  <thead>\n",
       "    <tr style=\"text-align: right;\">\n",
       "      <th></th>\n",
       "      <th>stag</th>\n",
       "      <th>age</th>\n",
       "      <th>extraversion</th>\n",
       "      <th>independ</th>\n",
       "      <th>selfcontrol</th>\n",
       "      <th>anxiety</th>\n",
       "      <th>novator</th>\n",
       "    </tr>\n",
       "  </thead>\n",
       "  <tbody>\n",
       "    <tr>\n",
       "      <th>stag</th>\n",
       "      <td>1.000000</td>\n",
       "      <td>-0.213404</td>\n",
       "      <td>-0.129267</td>\n",
       "      <td>0.065200</td>\n",
       "      <td>0.050795</td>\n",
       "      <td>-0.040311</td>\n",
       "      <td>-0.066284</td>\n",
       "    </tr>\n",
       "    <tr>\n",
       "      <th>age</th>\n",
       "      <td>-0.213404</td>\n",
       "      <td>1.000000</td>\n",
       "      <td>-0.116970</td>\n",
       "      <td>0.043920</td>\n",
       "      <td>0.013688</td>\n",
       "      <td>0.038650</td>\n",
       "      <td>0.062018</td>\n",
       "    </tr>\n",
       "    <tr>\n",
       "      <th>extraversion</th>\n",
       "      <td>-0.129267</td>\n",
       "      <td>-0.116970</td>\n",
       "      <td>1.000000</td>\n",
       "      <td>-0.191124</td>\n",
       "      <td>-0.579729</td>\n",
       "      <td>-0.107014</td>\n",
       "      <td>0.317611</td>\n",
       "    </tr>\n",
       "    <tr>\n",
       "      <th>independ</th>\n",
       "      <td>0.065200</td>\n",
       "      <td>0.043920</td>\n",
       "      <td>-0.191124</td>\n",
       "      <td>1.000000</td>\n",
       "      <td>-0.121016</td>\n",
       "      <td>-0.436577</td>\n",
       "      <td>0.002716</td>\n",
       "    </tr>\n",
       "    <tr>\n",
       "      <th>selfcontrol</th>\n",
       "      <td>0.050795</td>\n",
       "      <td>0.013688</td>\n",
       "      <td>-0.579729</td>\n",
       "      <td>-0.121016</td>\n",
       "      <td>1.000000</td>\n",
       "      <td>-0.137211</td>\n",
       "      <td>-0.526195</td>\n",
       "    </tr>\n",
       "    <tr>\n",
       "      <th>anxiety</th>\n",
       "      <td>-0.040311</td>\n",
       "      <td>0.038650</td>\n",
       "      <td>-0.107014</td>\n",
       "      <td>-0.436577</td>\n",
       "      <td>-0.137211</td>\n",
       "      <td>1.000000</td>\n",
       "      <td>0.227025</td>\n",
       "    </tr>\n",
       "    <tr>\n",
       "      <th>novator</th>\n",
       "      <td>-0.066284</td>\n",
       "      <td>0.062018</td>\n",
       "      <td>0.317611</td>\n",
       "      <td>0.002716</td>\n",
       "      <td>-0.526195</td>\n",
       "      <td>0.227025</td>\n",
       "      <td>1.000000</td>\n",
       "    </tr>\n",
       "  </tbody>\n",
       "</table>\n",
       "</div>"
      ],
      "text/plain": [
       "                  stag       age  extraversion  independ  selfcontrol  \\\n",
       "stag          1.000000 -0.213404     -0.129267  0.065200     0.050795   \n",
       "age          -0.213404  1.000000     -0.116970  0.043920     0.013688   \n",
       "extraversion -0.129267 -0.116970      1.000000 -0.191124    -0.579729   \n",
       "independ      0.065200  0.043920     -0.191124  1.000000    -0.121016   \n",
       "selfcontrol   0.050795  0.013688     -0.579729 -0.121016     1.000000   \n",
       "anxiety      -0.040311  0.038650     -0.107014 -0.436577    -0.137211   \n",
       "novator      -0.066284  0.062018      0.317611  0.002716    -0.526195   \n",
       "\n",
       "               anxiety   novator  \n",
       "stag         -0.040311 -0.066284  \n",
       "age           0.038650  0.062018  \n",
       "extraversion -0.107014  0.317611  \n",
       "independ     -0.436577  0.002716  \n",
       "selfcontrol  -0.137211 -0.526195  \n",
       "anxiety       1.000000  0.227025  \n",
       "novator       0.227025  1.000000  "
      ]
     },
     "execution_count": 125,
     "metadata": {},
     "output_type": "execute_result"
    }
   ],
   "source": [
    "test.corr()"
   ]
  },
  {
   "cell_type": "code",
   "execution_count": 126,
   "metadata": {},
   "outputs": [],
   "source": [
    "train.drop('head_gender', axis = 1 , inplace = True)\n",
    "test.drop('head_gender', axis = 1 , inplace = True)"
   ]
  },
  {
   "cell_type": "code",
   "execution_count": 127,
   "metadata": {},
   "outputs": [],
   "source": [
    "train.drop('greywage', axis = 1 , inplace = True)\n",
    "test.drop('greywage', axis = 1 , inplace = True)"
   ]
  },
  {
   "cell_type": "code",
   "execution_count": 128,
   "metadata": {},
   "outputs": [],
   "source": [
    "train['way'] = train['way'].fillna('bus')"
   ]
  },
  {
   "cell_type": "code",
   "execution_count": 129,
   "metadata": {},
   "outputs": [
    {
     "data": {
      "text/html": [
       "<div>\n",
       "<style scoped>\n",
       "    .dataframe tbody tr th:only-of-type {\n",
       "        vertical-align: middle;\n",
       "    }\n",
       "\n",
       "    .dataframe tbody tr th {\n",
       "        vertical-align: top;\n",
       "    }\n",
       "\n",
       "    .dataframe thead th {\n",
       "        text-align: right;\n",
       "    }\n",
       "</style>\n",
       "<table border=\"1\" class=\"dataframe\">\n",
       "  <thead>\n",
       "    <tr style=\"text-align: right;\">\n",
       "      <th></th>\n",
       "      <th></th>\n",
       "      <th>stag</th>\n",
       "    </tr>\n",
       "    <tr>\n",
       "      <th>gender</th>\n",
       "      <th>way</th>\n",
       "      <th></th>\n",
       "    </tr>\n",
       "  </thead>\n",
       "  <tbody>\n",
       "    <tr>\n",
       "      <th rowspan=\"3\" valign=\"top\">f</th>\n",
       "      <th>bus</th>\n",
       "      <td>33.751807</td>\n",
       "    </tr>\n",
       "    <tr>\n",
       "      <th>car</th>\n",
       "      <td>39.259479</td>\n",
       "    </tr>\n",
       "    <tr>\n",
       "      <th>foot</th>\n",
       "      <td>36.116163</td>\n",
       "    </tr>\n",
       "    <tr>\n",
       "      <th rowspan=\"3\" valign=\"top\">m</th>\n",
       "      <th>bus</th>\n",
       "      <td>35.993101</td>\n",
       "    </tr>\n",
       "    <tr>\n",
       "      <th>car</th>\n",
       "      <td>54.145197</td>\n",
       "    </tr>\n",
       "    <tr>\n",
       "      <th>foot</th>\n",
       "      <td>21.942961</td>\n",
       "    </tr>\n",
       "  </tbody>\n",
       "</table>\n",
       "</div>"
      ],
      "text/plain": [
       "                  stag\n",
       "gender way            \n",
       "f      bus   33.751807\n",
       "       car   39.259479\n",
       "       foot  36.116163\n",
       "m      bus   35.993101\n",
       "       car   54.145197\n",
       "       foot  21.942961"
      ]
     },
     "execution_count": 129,
     "metadata": {},
     "output_type": "execute_result"
    }
   ],
   "source": [
    "pd.set_option('display.max_row', 500)\n",
    "pt1 = train.pivot_table(values = 'stag', index = ['gender', 'way'], aggfunc = 'mean')\n",
    "pt1"
   ]
  },
  {
   "cell_type": "code",
   "execution_count": 130,
   "metadata": {},
   "outputs": [],
   "source": [
    "def fill_stag(df):\n",
    "    # 만약 나이가 결측치라면 피봇테이블에서 값을 가져와서 채운다.\n",
    "    if np.isnan(df['stag']): # 결측치이면 true, 아니면 false\n",
    "        return pt1.loc[df['gender'],df['way']]\n",
    "    # 만약 나이가 결측치가 아니라면 원래 나이값을 사용하자\n",
    "    else:\n",
    "        return df['stag']"
   ]
  },
  {
   "cell_type": "code",
   "execution_count": 131,
   "metadata": {},
   "outputs": [],
   "source": [
    "train['stag'] = train.apply(fill_stag, axis = 1).astype('float64')"
   ]
  },
  {
   "cell_type": "code",
   "execution_count": 132,
   "metadata": {},
   "outputs": [],
   "source": [
    "test['stag'] = test.apply(fill_stag, axis = 1).astype('float64')"
   ]
  },
  {
   "cell_type": "code",
   "execution_count": 133,
   "metadata": {},
   "outputs": [],
   "source": [
    "train['industry'] = train['industry'].fillna('Retail')"
   ]
  },
  {
   "cell_type": "code",
   "execution_count": 134,
   "metadata": {},
   "outputs": [],
   "source": [
    "train['way'] = train['way'].fillna('bus')"
   ]
  },
  {
   "cell_type": "code",
   "execution_count": 135,
   "metadata": {},
   "outputs": [],
   "source": [
    "train['selfcontrol'] = train['selfcontrol'].fillna(5.7)"
   ]
  },
  {
   "cell_type": "code",
   "execution_count": 136,
   "metadata": {},
   "outputs": [],
   "source": [
    "test['selfcontrol'] = test['selfcontrol'].fillna(6.4)"
   ]
  },
  {
   "cell_type": "code",
   "execution_count": 137,
   "metadata": {},
   "outputs": [
    {
     "name": "stdout",
     "output_type": "stream",
     "text": [
      "<class 'pandas.core.frame.DataFrame'>\n",
      "Int64Index: 699 entries, 1 to 699\n",
      "Data columns (total 14 columns):\n",
      " #   Column        Non-Null Count  Dtype  \n",
      "---  ------        --------------  -----  \n",
      " 0   stag          699 non-null    float64\n",
      " 1   event         699 non-null    int64  \n",
      " 2   gender        699 non-null    object \n",
      " 3   age           699 non-null    float64\n",
      " 4   industry      699 non-null    object \n",
      " 5   profession    699 non-null    object \n",
      " 6   traffic       699 non-null    object \n",
      " 7   coach         699 non-null    object \n",
      " 8   way           699 non-null    object \n",
      " 9   extraversion  699 non-null    float64\n",
      " 10  independ      699 non-null    float64\n",
      " 11  selfcontrol   699 non-null    float64\n",
      " 12  anxiety       699 non-null    float64\n",
      " 13  novator       699 non-null    float64\n",
      "dtypes: float64(7), int64(1), object(6)\n",
      "memory usage: 81.9+ KB\n"
     ]
    }
   ],
   "source": [
    "train.info()"
   ]
  },
  {
   "cell_type": "code",
   "execution_count": 138,
   "metadata": {},
   "outputs": [],
   "source": [
    "y_train = train['event']\n",
    "X_train = train.drop('event', axis = 1)\n",
    "X_test = test"
   ]
  },
  {
   "cell_type": "code",
   "execution_count": 139,
   "metadata": {},
   "outputs": [],
   "source": [
    "cat_feature = ['gender', 'industry', 'profession', 'traffic', 'coach', 'way']"
   ]
  },
  {
   "cell_type": "code",
   "execution_count": 140,
   "metadata": {},
   "outputs": [],
   "source": [
    "for i in cat_feature:\n",
    "    dummy = pd.get_dummies(train[i], prefix = i)\n",
    "    X_train = pd.concat([X_train, dummy], axis = 1)\n",
    "    X_train.drop(i, axis=1, inplace = True)"
   ]
  },
  {
   "cell_type": "code",
   "execution_count": 141,
   "metadata": {},
   "outputs": [],
   "source": [
    "for i in cat_feature:\n",
    "    dummy = pd.get_dummies(test[i], prefix = i)\n",
    "    X_test = pd.concat([X_test, dummy], axis = 1)\n",
    "    X_test.drop(i, axis=1, inplace = True)"
   ]
  },
  {
   "cell_type": "code",
   "execution_count": 142,
   "metadata": {},
   "outputs": [
    {
     "data": {
      "text/plain": [
       "set()"
      ]
     },
     "execution_count": 142,
     "metadata": {},
     "output_type": "execute_result"
    }
   ],
   "source": [
    "set(X_train.columns) - set(X_test.columns)"
   ]
  },
  {
   "cell_type": "code",
   "execution_count": 143,
   "metadata": {},
   "outputs": [],
   "source": [
    "tree_model = DecisionTreeClassifier(max_depth = 10)"
   ]
  },
  {
   "cell_type": "code",
   "execution_count": 144,
   "metadata": {},
   "outputs": [
    {
     "data": {
      "text/plain": [
       "array([0.57142857, 0.5       , 0.64285714, 0.74285714, 0.8       ,\n",
       "       0.57142857, 0.67142857, 0.51428571, 0.65714286, 0.69565217])"
      ]
     },
     "execution_count": 144,
     "metadata": {},
     "output_type": "execute_result"
    }
   ],
   "source": [
    "result = cross_val_score(tree_model,\n",
    "                        X_train,\n",
    "                        y_train,\n",
    "                        cv = 10)\n",
    "result"
   ]
  },
  {
   "cell_type": "code",
   "execution_count": 145,
   "metadata": {},
   "outputs": [
    {
     "data": {
      "text/plain": [
       "0.6367080745341616"
      ]
     },
     "execution_count": 145,
     "metadata": {},
     "output_type": "execute_result"
    }
   ],
   "source": [
    "result.mean()"
   ]
  },
  {
   "cell_type": "markdown",
   "metadata": {},
   "source": [
    "### 그리드서치"
   ]
  },
  {
   "cell_type": "code",
   "execution_count": 148,
   "metadata": {},
   "outputs": [],
   "source": [
    "forest_model2 = RandomForestClassifier(n_estimators = 1000,\n",
    "                                      max_features = 0.7,\n",
    "                                      max_depth = 5,\n",
    "                                      min_samples_leaf = 15,\n",
    "                                      max_leaf_nodes = 50)"
   ]
  },
  {
   "cell_type": "code",
   "execution_count": 149,
   "metadata": {},
   "outputs": [],
   "source": [
    "from sklearn.model_selection import GridSearchCV"
   ]
  },
  {
   "cell_type": "code",
   "execution_count": 150,
   "metadata": {},
   "outputs": [],
   "source": [
    "param_grid = {\n",
    "    \"max_depth\" : [5, 10, 15, 20],\n",
    "    \"n_estimators\" : [1000, 1500, 2000, 2500],\n",
    "    \"max_features\" : [0.5, 0.7, 0.9],\n",
    "    \"max_leaf_nodes\" : [20, 50, 80]\n",
    "}"
   ]
  },
  {
   "cell_type": "code",
   "execution_count": 151,
   "metadata": {},
   "outputs": [],
   "source": [
    "grid = GridSearchCV(forest_model2,\n",
    "                   param_grid,\n",
    "                   cv = 3)"
   ]
  },
  {
   "cell_type": "code",
   "execution_count": null,
   "metadata": {},
   "outputs": [],
   "source": [
    "grid.fit(X_train, y_train)"
   ]
  },
  {
   "cell_type": "code",
   "execution_count": null,
   "metadata": {},
   "outputs": [],
   "source": []
  }
 ],
 "metadata": {
  "kernelspec": {
   "display_name": "Python 3",
   "language": "python",
   "name": "python3"
  },
  "language_info": {
   "codemirror_mode": {
    "name": "ipython",
    "version": 3
   },
   "file_extension": ".py",
   "mimetype": "text/x-python",
   "name": "python",
   "nbconvert_exporter": "python",
   "pygments_lexer": "ipython3",
   "version": "3.8.5"
  }
 },
 "nbformat": 4,
 "nbformat_minor": 4
}
